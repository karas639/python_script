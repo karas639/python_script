{
 "cells": [
  {
   "cell_type": "markdown",
   "metadata": {},
   "source": [
    "# 파이썬 기초"
   ]
  },
  {
   "cell_type": "markdown",
   "metadata": {},
   "source": [
    "- 2차원 리스트 생성과 접근"
   ]
  },
  {
   "cell_type": "code",
   "execution_count": 2,
   "metadata": {},
   "outputs": [
    {
     "name": "stdout",
     "output_type": "stream",
     "text": [
      "[0, 0, 0]\n"
     ]
    }
   ],
   "source": [
    "# 1차원 리스트 생성\n",
    "a=[0]*3\n",
    "print(a)"
   ]
  },
  {
   "cell_type": "code",
   "execution_count": 4,
   "metadata": {},
   "outputs": [
    {
     "name": "stdout",
     "output_type": "stream",
     "text": [
      "[[0, 0, 0], [0, 0, 0], [0, 0, 0]]\n"
     ]
    }
   ],
   "source": [
    "# 2차원 리스트 생성\n",
    "a=[[0]*3 for _ in range(3)]\n",
    "print(a)"
   ]
  },
  {
   "cell_type": "markdown",
   "metadata": {},
   "source": [
    "| 행/열 | 0 | 1 | 2 |   |\n",
    "|-------|---|---|---|---|\n",
    "|<h4>0</h4>     | 0 | 0 | 0 |   |\n",
    "|<h4>1</h4>     | 0 | 0 | 0 |   |\n",
    "|<h4>2</h4>     | 0 | 0 | 0 |   |"
   ]
  },
  {
   "cell_type": "markdown",
   "metadata": {},
   "source": [
    "- 첫번재 리스트가 0번 행을 의미\n"
   ]
  },
  {
   "cell_type": "code",
   "execution_count": 10,
   "metadata": {},
   "outputs": [
    {
     "data": {
      "text/plain": [
       "[[0, 1, 0], [0, 2, 0], [0, 0, 0]]"
      ]
     },
     "execution_count": 10,
     "metadata": {},
     "output_type": "execute_result"
    }
   ],
   "source": [
    "a[0][1]=1\n",
    "a[1][1]=2\n",
    "a"
   ]
  },
  {
   "cell_type": "markdown",
   "metadata": {},
   "source": [
    "| 행/열 | 0 | 1 | 2 |   |\n",
    "|-------|---|---|---|---|\n",
    "|<h4>0</h4>     | 0 | 1 | 0 |   |\n",
    "|<h4>1</h4>     | 0 | 2 | 0 |   |\n",
    "|<h4>2</h4>     | 0 | 0 | 0 |   |"
   ]
  },
  {
   "cell_type": "code",
   "execution_count": 11,
   "metadata": {},
   "outputs": [
    {
     "name": "stdout",
     "output_type": "stream",
     "text": [
      "[0, 1, 0]\n",
      "[0, 2, 0]\n",
      "[0, 0, 0]\n"
     ]
    }
   ],
   "source": [
    "for x in a:\n",
    "    print(x)"
   ]
  },
  {
   "cell_type": "code",
   "execution_count": 12,
   "metadata": {},
   "outputs": [
    {
     "name": "stdout",
     "output_type": "stream",
     "text": [
      "0 1 0 \n",
      "0 2 0 \n",
      "0 0 0 \n"
     ]
    }
   ],
   "source": [
    "#2차원 리스트의 값들만 출력하기\n",
    "for x in a: #x가 1차원 리스트\n",
    "    for y in x: #y는 해당 x 리스트의 원소값?\n",
    "        print(y, end=' ')\n",
    "    print()"
   ]
  },
  {
   "cell_type": "markdown",
   "metadata": {},
   "source": [
    "### 함수 만들기"
   ]
  },
  {
   "cell_type": "code",
   "execution_count": 16,
   "metadata": {},
   "outputs": [
    {
     "name": "stdout",
     "output_type": "stream",
     "text": [
      "5\n",
      "12\n"
     ]
    }
   ],
   "source": [
    "def add (a, b):\n",
    "    c=a+b\n",
    "    print(c)\n",
    "\n",
    "add(3, 2) # 프로그램이 작동, add라는 함수가 있구나 하고, add(3, 2)를 호출, add라는 함수를 작동시켜라라는 의미이고, 3과 2가 a,b에 대입\n",
    "#5가 출력됨\n",
    "\n",
    "add(5, 7)"
   ]
  },
  {
   "cell_type": "markdown",
   "metadata": {},
   "source": [
    "### 함수는 메인스크립트 위쪽에 해야한다. 그래야 인식을 한다.\n",
    "### 함수는 return을 통해 값을 리턴하고 함수를 종료하며, return을 사용하면 메인스크립트에서 사용이 가능"
   ]
  },
  {
   "cell_type": "code",
   "execution_count": 18,
   "metadata": {
    "scrolled": true
   },
   "outputs": [
    {
     "name": "stdout",
     "output_type": "stream",
     "text": [
      "5\n",
      "5\n"
     ]
    }
   ],
   "source": [
    "def add(a,b):\n",
    "    c=a+b\n",
    "    return c\n",
    "# return을 하면 a+b를 더한 값을 반환을 해준다.\n",
    "\n",
    "print(add(3, 2)) # 메인스크립트 호출해서 함수가 작동하여 3, 2를 받아 더한 값을 c에 담은 결과를 반환을 하여 add가 받음\n",
    "# 즉 함수에서 출력하는게 아니라 메인스크립트에서 출력하는 것.\n",
    "# 또한 아래와 같이도 가능\n",
    "x=add(3, 2)\n",
    "print(x)"
   ]
  },
  {
   "cell_type": "code",
   "execution_count": 19,
   "metadata": {},
   "outputs": [
    {
     "name": "stdout",
     "output_type": "stream",
     "text": [
      "(5, 1)\n"
     ]
    }
   ],
   "source": [
    "def add(a, b):\n",
    "    c=a+b\n",
    "    d=a-b\n",
    "    return c, d\n",
    "# 두개 값을 반환할 수 있다. C++처럼. 정수 값 두개를 리턴 가능 -> 리턴하면 튜플 자료형으로 리턴이 된다.\n",
    "\n",
    "print(add(3, 2))"
   ]
  },
  {
   "cell_type": "code",
   "execution_count": 23,
   "metadata": {},
   "outputs": [
    {
     "name": "stdout",
     "output_type": "stream",
     "text": [
      "13 7 19 "
     ]
    }
   ],
   "source": [
    "def isPrime(x):\n",
    "    for i in range(2, x): #2부터 x전까지 반복하겠다.\n",
    "        if x%i==0: # 1과 자기 자신만 남아야 소수, if 조건이 참이면 i는 x의 약수이므로 False를 리턴\n",
    "            return False # 함수가 종료됨\n",
    "    return True  # if를 만족하지 못하는 값에 대해 리턴하고 종료\n",
    "\n",
    "\n",
    "\n",
    "a=[12, 13, 7, 9, 19]\n",
    "# 위 리스트에서 소수만 출력하는 프로그램 만들기\n",
    "# a 리스트를 선언한 후 맨 윗줄에서 함수 만들기\n",
    "\n",
    "for x in a: #함수에서의 x와 다름 함수x는 지역변수, \n",
    "    if isPrime(x):\n",
    "        print(x, end=' ') # x가 정해지고 imPrime이 호출되면 함수가 작동, 여기서의 x값이 함수 안에서의 x로 전달, 참인지 거짓인지 계산\n",
    "        # x는 a에 하나하나 접근하여 x가 리스트의 처음 12를 계산, 12가 소수인지 아닌지 계산하여 True인 경우만 출력"
   ]
  },
  {
   "cell_type": "markdown",
   "metadata": {},
   "source": [
    "## 람다 함수\n",
    "\n",
    "- 익명의 함수\n",
    "- 람다 표현식\n",
    "- 으로도 불린다"
   ]
  },
  {
   "cell_type": "code",
   "execution_count": 2,
   "metadata": {},
   "outputs": [
    {
     "name": "stdout",
     "output_type": "stream",
     "text": [
      "2\n"
     ]
    }
   ],
   "source": [
    "def plus_one(x):\n",
    "    return x+1\n",
    "\n",
    "print(plus_one(1)) # 위에 만들어준 함수에서 plus_one(x) 부분에서 x에 1이 넘어가서 1에 다가 +1하여 2가 출력되겠다."
   ]
  },
  {
   "cell_type": "markdown",
   "metadata": {},
   "source": [
    "- 이것을 람다함수로 하면 어떻게 될까?"
   ]
  },
  {
   "cell_type": "code",
   "execution_count": 3,
   "metadata": {},
   "outputs": [
    {
     "name": "stdout",
     "output_type": "stream",
     "text": [
      "3\n"
     ]
    }
   ],
   "source": [
    "#아래줄이 함수인데, lamda 앞에 변수명을 할당\n",
    "plus_two=lambda x: x+2\n",
    "print(plus_two(1))"
   ]
  },
  {
   "cell_type": "markdown",
   "metadata": {},
   "source": [
    "- 람다함수는 표현식"
   ]
  },
  {
   "cell_type": "code",
   "execution_count": 2,
   "metadata": {},
   "outputs": [
    {
     "name": "stdout",
     "output_type": "stream",
     "text": [
      "[2, 3, 4]\n"
     ]
    }
   ],
   "source": [
    "def plus_one(x):\n",
    "    return x+1\n",
    "\n",
    "#a라는 리스트가 있다고 가정\n",
    "a=[1, 2, 3]\n",
    "print(list(map(plus_one, a))) # a라는 list를 map 해라..? a 자료구조가 plus_one 함수에 적용되는 것이다.\n",
    "\n",
    "# map(int, 1, 2,3,) -1,2,3은 문자, int는 내장함수명, 123은 자료형\n",
    "# int자리에 plus_one 함수를 작동시키자."
   ]
  },
  {
   "cell_type": "markdown",
   "metadata": {},
   "source": [
    "#### 위의 내용을 람다함수로 한 줄로 표현해보자"
   ]
  },
  {
   "cell_type": "code",
   "execution_count": 4,
   "metadata": {},
   "outputs": [
    {
     "name": "stdout",
     "output_type": "stream",
     "text": [
      "[2, 3, 4]\n"
     ]
    }
   ],
   "source": [
    "print(list(map(lambda x: x+1, a)))"
   ]
  },
  {
   "cell_type": "markdown",
   "metadata": {},
   "source": [
    "#### 위와 같이 익명의 표현식을 내장함수의 인자로 사용할 때 편리하며, sort라는 것의 인자로 lambda로 사용하기도 한다"
   ]
  },
  {
   "cell_type": "code",
   "execution_count": null,
   "metadata": {},
   "outputs": [],
   "source": []
  }
 ],
 "metadata": {
  "kernelspec": {
   "display_name": "Python 3",
   "language": "python",
   "name": "python3"
  },
  "language_info": {
   "codemirror_mode": {
    "name": "ipython",
    "version": 3
   },
   "file_extension": ".py",
   "mimetype": "text/x-python",
   "name": "python",
   "nbconvert_exporter": "python",
   "pygments_lexer": "ipython3",
   "version": "3.7.6"
  }
 },
 "nbformat": 4,
 "nbformat_minor": 4
}
