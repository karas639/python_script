{
 "cells": [
  {
   "cell_type": "code",
   "execution_count": 3,
   "metadata": {},
   "outputs": [
    {
     "data": {
      "text/plain": [
       "'192.168.100.10'"
      ]
     },
     "execution_count": 3,
     "metadata": {},
     "output_type": "execute_result"
    }
   ],
   "source": [
    "a = \"192.168.100.10\"\n",
    "a"
   ]
  },
  {
   "cell_type": "code",
   "execution_count": 29,
   "metadata": {
    "scrolled": true
   },
   "outputs": [
    {
     "data": {
      "text/plain": [
       "str"
      ]
     },
     "execution_count": 29,
     "metadata": {},
     "output_type": "execute_result"
    }
   ],
   "source": [
    "type(a)"
   ]
  },
  {
   "cell_type": "code",
   "execution_count": 5,
   "metadata": {},
   "outputs": [],
   "source": [
    "import re\n",
    "#pattern = re.compile(\"\\d{3}\\.\\d{3}\\.\\d{3}\\.\\d{3}(\\/)?$\")\n",
    "p = re.compile('ab*')\n",
    "p"
   ]
  },
  {
   "cell_type": "markdown",
   "metadata": {},
   "source": [
    "##  IP 입력받아서 네번째 옥텟 0으로 치환 후 whois 검색하여 국가코드 붙여서 출력하기\n",
    "\n"
   ]
  },
  {
   "cell_type": "code",
   "execution_count": 7,
   "metadata": {},
   "outputs": [
    {
     "data": {
      "text/plain": [
       "re.Pattern"
      ]
     },
     "execution_count": 7,
     "metadata": {},
     "output_type": "execute_result"
    }
   ],
   "source": [
    "type(p)"
   ]
  },
  {
   "cell_type": "code",
   "execution_count": 8,
   "metadata": {},
   "outputs": [],
   "source": [
    "import re\n",
    "p = re.compile('[a-z]+')"
   ]
  },
  {
   "cell_type": "code",
   "execution_count": 9,
   "metadata": {},
   "outputs": [
    {
     "name": "stdout",
     "output_type": "stream",
     "text": [
      "<re.Match object; span=(0, 6), match='python'>\n"
     ]
    }
   ],
   "source": [
    "m = p.match(\"python\")\n",
    "print(m)"
   ]
  },
  {
   "cell_type": "code",
   "execution_count": 10,
   "metadata": {},
   "outputs": [
    {
     "name": "stdout",
     "output_type": "stream",
     "text": [
      "None\n"
     ]
    }
   ],
   "source": [
    "m = p.match(\"3 python\")\n",
    "print(m)"
   ]
  },
  {
   "cell_type": "code",
   "execution_count": 11,
   "metadata": {},
   "outputs": [
    {
     "name": "stdout",
     "output_type": "stream",
     "text": [
      "<re.Match object; span=(0, 15), match='192.168.100.200'>\n"
     ]
    }
   ],
   "source": [
    "p = re.compile(\"\\d{3}\\.\\d{3}\\.\\d{3}\\.\\d{3}(\\/)?$\")\n",
    "str1 = \"192.168.100.200\"\n",
    "print(p.match(str1))"
   ]
  },
  {
   "cell_type": "code",
   "execution_count": 12,
   "metadata": {},
   "outputs": [
    {
     "name": "stdout",
     "output_type": "stream",
     "text": [
      "10\n",
      "1 2 5 10 "
     ]
    }
   ],
   "source": [
    "n=int(input())\n",
    "for i in range(1, n+1):\n",
    "    if n%i==0:\n",
    "        print(i, end=' ')"
   ]
  },
  {
   "cell_type": "code",
   "execution_count": 13,
   "metadata": {
    "scrolled": true
   },
   "outputs": [
    {
     "name": "stdout",
     "output_type": "stream",
     "text": [
      "test\n"
     ]
    },
    {
     "data": {
      "text/plain": [
       "'test'"
      ]
     },
     "execution_count": 13,
     "metadata": {},
     "output_type": "execute_result"
    }
   ],
   "source": [
    "input()"
   ]
  },
  {
   "cell_type": "code",
   "execution_count": 22,
   "metadata": {
    "scrolled": true
   },
   "outputs": [
    {
     "name": "stdout",
     "output_type": "stream",
     "text": [
      "10.1.100.1\n",
      "<re.Match object; span=(0, 10), match='10.1.100.1'>\n"
     ]
    }
   ],
   "source": [
    "ip = input()\n",
    "p = re.compile(\"\\d{1,3}\\.\\d{1,3}\\.\\d{1,3}\\.\\d{1,3}(\\/)?$\")\n",
    "print(p.match(ip))"
   ]
  },
  {
   "cell_type": "code",
   "execution_count": null,
   "metadata": {},
   "outputs": [],
   "source": [
    "'''def ip_search(ip):\n",
    "    (a, b, c, d) = ip.split('.')\n",
    "    if d != 0:\n",
    "        d = 0\n",
    "    else:\n",
    "        print(\"continue\")\n",
    "    \n",
    "    ip_result = a+'.'+b+'.'+c+'.'+d+'.'\n",
    "    type(ip_result)\n",
    "    return ip_result\n",
    "\n",
    "''''''\n",
    "file_in = open(\"ip.txt\", 'r')\n",
    "file_out = open(\"ip_result.txt\", 'w')\n",
    "\n",
    "p = re.compile(\"\\d{1,3}\\.\\d{1,3}\\.\\d{1,3}\\.\\d{1,3}(\\/)?$\")\n",
    "print(p.match(ip))\n",
    "\n",
    "while True:\n",
    "    line = file_in.readline()\n",
    "    print(line)\n",
    "    result = p.match(line)\n",
    "    print(result)\n",
    "    \n",
    "file_in.close()\n",
    "file_out.close()\n",
    "'''"
   ]
  },
  {
   "cell_type": "code",
   "execution_count": 3,
   "metadata": {},
   "outputs": [
    {
     "name": "stdout",
     "output_type": "stream",
     "text": [
      "106.55.43.0/24 (CN)\n"
     ]
    }
   ],
   "source": [
    "import re #정규표현식 모듈\n",
    "import urllib.request\n",
    "import json\n",
    "\n",
    "#file을 이용하여 입력값 넣기\n",
    "file_in = open(\"ip.txt\", 'r')\n",
    "file_out = open(\"ip_result.txt\", 'w')\n",
    "\n",
    "#p = re.compile(\"\\d{1,3}\\.\\d{1,3}\\.\\d{1,3}\\.\\d{1,3}(\\/)?$\")\n",
    "while True:\n",
    "    line = file_in.readline()\n",
    "    #print(line)\n",
    "    p1 = re.sub(\"\\d{1,3}(\\/)?$\",\"0\",line)\n",
    "    if not line:\n",
    "        break\n",
    "    else:\n",
    "        p2 = p1.strip()\n",
    "        p3 = p2+\"/24\"\n",
    "        #print(p3)\n",
    "        #print(p.match(line))\n",
    "\n",
    "        whois_key = '2020061011345550462421'\n",
    "        query = \"http://whois.kisa.or.kr/openapi/ipascc.jsp?query=\" + p2 + \"&key=\"+ whois_key + \"&answer=json\";\n",
    "        request = urllib.request.urlopen(query).read().decode(\"utf-8\")\n",
    "        #print(request.strip())\n",
    "        data = re.findall('[A-Z]{1,2}',request)\n",
    "        countrycode = \"(\"+data[-1]+\")\"\n",
    "        print(p3, countrycode)\n",
    "        \n",
    "            \n",
    "file_in.close()\n",
    "file_out.close()\n"
   ]
  },
  {
   "cell_type": "code",
   "execution_count": 1,
   "metadata": {
    "scrolled": true
   },
   "outputs": [
    {
     "name": "stdout",
     "output_type": "stream",
     "text": [
      "Number of IP address to search :106.55.43.91\n"
     ]
    },
    {
     "ename": "ValueError",
     "evalue": "invalid literal for int() with base 10: '106.55.43.91'",
     "output_type": "error",
     "traceback": [
      "\u001b[1;31m---------------------------------------------------------------------------\u001b[0m",
      "\u001b[1;31mValueError\u001b[0m                                Traceback (most recent call last)",
      "\u001b[1;32m<ipython-input-1-b64b7d210295>\u001b[0m in \u001b[0;36m<module>\u001b[1;34m\u001b[0m\n\u001b[0;32m      5\u001b[0m \u001b[1;31m#직접 입력값을 변수에 넣기\u001b[0m\u001b[1;33m\u001b[0m\u001b[1;33m\u001b[0m\u001b[1;33m\u001b[0m\u001b[0m\n\u001b[0;32m      6\u001b[0m \u001b[0ma\u001b[0m\u001b[1;33m=\u001b[0m\u001b[1;33m[\u001b[0m\u001b[1;33m]\u001b[0m\u001b[1;33m\u001b[0m\u001b[1;33m\u001b[0m\u001b[0m\n\u001b[1;32m----> 7\u001b[1;33m \u001b[0mcnt\u001b[0m\u001b[1;33m=\u001b[0m\u001b[0mint\u001b[0m\u001b[1;33m(\u001b[0m\u001b[0minput\u001b[0m\u001b[1;33m(\u001b[0m\u001b[1;34m\"Number of IP address to search :\"\u001b[0m\u001b[1;33m)\u001b[0m\u001b[1;33m)\u001b[0m\u001b[1;33m\u001b[0m\u001b[1;33m\u001b[0m\u001b[0m\n\u001b[0m\u001b[0;32m      8\u001b[0m \u001b[1;32mfor\u001b[0m \u001b[0mi\u001b[0m \u001b[1;32min\u001b[0m \u001b[0mrange\u001b[0m\u001b[1;33m(\u001b[0m\u001b[1;36m1\u001b[0m\u001b[1;33m,\u001b[0m\u001b[0mcnt\u001b[0m\u001b[1;33m+\u001b[0m\u001b[1;36m1\u001b[0m\u001b[1;33m)\u001b[0m\u001b[1;33m:\u001b[0m\u001b[1;33m\u001b[0m\u001b[1;33m\u001b[0m\u001b[0m\n\u001b[0;32m      9\u001b[0m     \u001b[0mb\u001b[0m\u001b[1;33m=\u001b[0m\u001b[0minput\u001b[0m\u001b[1;33m(\u001b[0m\u001b[1;34m\"IP : \"\u001b[0m\u001b[1;33m)\u001b[0m\u001b[1;33m\u001b[0m\u001b[1;33m\u001b[0m\u001b[0m\n",
      "\u001b[1;31mValueError\u001b[0m: invalid literal for int() with base 10: '106.55.43.91'"
     ]
    }
   ],
   "source": [
    "import re #정규표현식 모듈\n",
    "import urllib.request\n",
    "import json\n",
    "\n",
    "#직접 입력값을 변수에 넣기\n",
    "a=[]\n",
    "cnt=int(input(\"Number of IP address to search :\"))\n",
    "for i in range(1,cnt+1):\n",
    "    b=input(\"IP : \")\n",
    "    a.append(b)\n",
    "    print(a)\n",
    "    count = 0\n",
    "    while count < 10:\n",
    "        p1 = re.sub(\"\\d{1,3}(\\/)?$\",\"0\",a)\n",
    "        if not line:\n",
    "            break\n",
    "        else:\n",
    "            p2 = p1.strip()\n",
    "            p3 = p2+\"/24\"\n",
    "            #print(p3)\n",
    "            #print(p.match(line))\n",
    "\n",
    "            whois_key = '2020061011345550462421'\n",
    "            query = \"http://whois.kisa.or.kr/openapi/ipascc.jsp?query=\" + p2 + \"&key=\"+ whois_key + \"&answer=json\";\n",
    "            request = urllib.request.urlopen(query).read().decode(\"utf-8\")\n",
    "            #print(request.strip())\n",
    "            data = re.findall('[A-Z]{1,2}',request)\n",
    "            countrycode = \"(\"+data[-1]+\")\"\n",
    "            print(p3, countrycode)\n",
    "        count += 1\n",
    "        \n",
    "            \n",
    "#file_in.close()\n",
    "#file_out.close()"
   ]
  },
  {
   "cell_type": "markdown",
   "metadata": {},
   "source": [
    "안녕하세요. 천재교육 김동욱입니다.\n",
    "\n",
    "방화벽에서 아래 공격자 IP 차단 요청 드립니다.\n",
    "========================== 아 래 ===========================\n",
    "1. Address Group : CJ_attacker_201911~12\n",
    "\n",
    "2. 차단 IP 내역\n",
    "\n",
    "106.55.43.0/24 (CN)\n",
    "\n",
    "\n",
    "3. Address Group 멤버 형식 : CK_ATK_오늘날짜_대역정보\n",
    "==========================================================\n",
    "\n",
    "감사합니다."
   ]
  }
 ],
 "metadata": {
  "kernelspec": {
   "display_name": "Python 3",
   "language": "python",
   "name": "python3"
  },
  "language_info": {
   "codemirror_mode": {
    "name": "ipython",
    "version": 3
   },
   "file_extension": ".py",
   "mimetype": "text/x-python",
   "name": "python",
   "nbconvert_exporter": "python",
   "pygments_lexer": "ipython3",
   "version": "3.7.6"
  }
 },
 "nbformat": 4,
 "nbformat_minor": 4
}
