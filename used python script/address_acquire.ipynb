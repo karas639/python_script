{
 "cells": [
  {
   "cell_type": "code",
   "execution_count": 3,
   "metadata": {},
   "outputs": [
    {
     "name": "stdout",
     "output_type": "stream",
     "text": [
      "Requirement already satisfied: requests in c:\\users\\uk0101\\anaconda3\\lib\\site-packages (2.24.0)\n",
      "Requirement already satisfied: certifi>=2017.4.17 in c:\\users\\uk0101\\anaconda3\\lib\\site-packages (from requests) (2020.6.20)\n",
      "Requirement already satisfied: chardet<4,>=3.0.2 in c:\\users\\uk0101\\anaconda3\\lib\\site-packages (from requests) (3.0.4)\n",
      "Requirement already satisfied: idna<3,>=2.5 in c:\\users\\uk0101\\anaconda3\\lib\\site-packages (from requests) (2.10)\n",
      "Requirement already satisfied: urllib3!=1.25.0,!=1.25.1,<1.26,>=1.21.1 in c:\\users\\uk0101\\anaconda3\\lib\\site-packages (from requests) (1.25.9)\n",
      "Note: you may need to restart the kernel to use updated packages.\n"
     ]
    }
   ],
   "source": [
    "pip install requests"
   ]
  },
  {
   "cell_type": "code",
   "execution_count": 21,
   "metadata": {},
   "outputs": [],
   "source": [
    "import requests\n",
    "import json\n",
    "import pandas as pd"
   ]
  },
  {
   "cell_type": "code",
   "execution_count": 50,
   "metadata": {},
   "outputs": [],
   "source": [
    "#x=(input(\"Longitude: \"))\n",
    "#y=(input(\"Latitude: \"))\n",
    "url = \"https://dapi.kakao.com/v2/local/geo/coord2address.json?input_coord=WGS84&x=126.9807036&y=37.56736358\"\n",
    "headers = {\"Authorization\": \"KakaoAK f127929703cacf6d62ca3c0586f2fab6\"}"
   ]
  },
  {
   "cell_type": "code",
   "execution_count": 51,
   "metadata": {},
   "outputs": [],
   "source": [
    "api_test = requests.get(url,headers=headers)"
   ]
  },
  {
   "cell_type": "code",
   "execution_count": 52,
   "metadata": {},
   "outputs": [],
   "source": [
    "url_text = json.loads(api_test.text)"
   ]
  },
  {
   "cell_type": "code",
   "execution_count": 53,
   "metadata": {},
   "outputs": [
    {
     "data": {
      "text/plain": [
       "{'meta': {'total_count': 1},\n",
       " 'documents': [{'road_address': {'address_name': '서울특별시 중구 다동길 24-5',\n",
       "    'region_1depth_name': '서울',\n",
       "    'region_2depth_name': '중구',\n",
       "    'region_3depth_name': '',\n",
       "    'road_name': '다동길',\n",
       "    'underground_yn': 'N',\n",
       "    'main_building_no': '24',\n",
       "    'sub_building_no': '5',\n",
       "    'building_name': '',\n",
       "    'zone_no': '04522'},\n",
       "   'address': {'address_name': '서울 중구 다동 134-4',\n",
       "    'region_1depth_name': '서울',\n",
       "    'region_2depth_name': '중구',\n",
       "    'region_3depth_name': '다동',\n",
       "    'mountain_yn': 'N',\n",
       "    'main_address_no': '134',\n",
       "    'sub_address_no': '4',\n",
       "    'zip_code': ''}}]}"
      ]
     },
     "execution_count": 53,
     "metadata": {},
     "output_type": "execute_result"
    }
   ],
   "source": [
    "url_text"
   ]
  },
  {
   "cell_type": "markdown",
   "metadata": {},
   "source": [
    "### http://www.databaser.net/moniwiki/wiki.php/JSON%ED%8C%8C%EC%8B%B1%ED%95%98%EA%B8%B0\n",
    "### https://developers.kakao.com/docs/restapi/local\n",
    "### https://oboki.net/workspace/programming/language/python/ipstack-api-ip-%ec%9c%84%ec%b9%98-%ec%a0%95%eb%b3%b4-%ec%a1%b0%ed%9a%8c/\n",
    "### https://rfriend.tistory.com/474"
   ]
  },
  {
   "cell_type": "code",
   "execution_count": null,
   "metadata": {},
   "outputs": [],
   "source": []
  }
 ],
 "metadata": {
  "kernelspec": {
   "display_name": "Python 3",
   "language": "python",
   "name": "python3"
  },
  "language_info": {
   "codemirror_mode": {
    "name": "ipython",
    "version": 3
   },
   "file_extension": ".py",
   "mimetype": "text/x-python",
   "name": "python",
   "nbconvert_exporter": "python",
   "pygments_lexer": "ipython3",
   "version": "3.8.3"
  }
 },
 "nbformat": 4,
 "nbformat_minor": 4
}
