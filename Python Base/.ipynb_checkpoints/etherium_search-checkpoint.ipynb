{
 "cells": [
  {
   "cell_type": "markdown",
   "metadata": {},
   "source": [
    "### 이더리움 계좌 검색"
   ]
  },
  {
   "cell_type": "markdown",
   "metadata": {},
   "source": [
    "### 모듈\n",
    "- requests\n",
    "\n",
    "- BeautifulSoup\n",
    "\n",
    "- urlopen"
   ]
  },
  {
   "cell_type": "markdown",
   "metadata": {},
   "source": [
    "#### data_proto.py"
   ]
  },
  {
   "cell_type": "code",
   "execution_count": 5,
   "metadata": {},
   "outputs": [
    {
     "name": "stdout",
     "output_type": "stream",
     "text": [
      "Search by Address : 0x6b50911190cffd34b50d575706639c24aafdc625\n",
      "https://etherscan.io/address/0x6b50911190cffd34b50d575706639c24aafdc625\n",
      "----------------------------------------------------------------------\n",
      "<Response [200]>\n",
      "https://etherscan.io/address/0x6b50911190cffd34b50d575706639c24aafdc625\n",
      "----------------------------------------------------------------------\n",
      "https://etherscan.io/address/0x6b50911190cffd34b50d575706639c24aafdc625\n",
      "----------------------------------------------------------------------\n",
      "[<a class=\"hash-tag text-truncate\" href=\"/tx/0x930253ad5b8164e7b9a06ff7d1027e2fabdcc7e21e05fc5e58d5cf3dd05b4ede\">0x930253ad5b8164e7b9a06ff7d1027e2fabdcc7e21e05fc5e58d5cf3dd05b4ede</a>, <span class=\"hash-tag text-truncate\" data-placement=\"bottom\" data-toggle=\"tooltip\" title=\"0x6b50911190cffd34b50d575706639c24aafdc625\">0x6b50911190cffd34b50d575706639c24aafdc625</span>, <a class=\"hash-tag text-truncate\" data-placement=\"bottom\" data-toggle=\"tooltip\" href=\"/address/0xb3890fbe2abdff8164175c6bbdb5f3779c5cdac2\" title=\"0xb3890fbe2abdff8164175c6bbdb5f3779c5cdac2\">0xb3890fbe2abdff8164175c6bbdb5f3779c5cdac2</a>, <a class=\"hash-tag text-truncate\" href=\"/tx/0x81d51b4cfaa8b26d5597651a61f501a6b669a8d70892633ac4714b9e4b1fb4c1\">0x81d51b4cfaa8b26d5597651a61f501a6b669a8d70892633ac4714b9e4b1fb4c1</a>, <span class=\"hash-tag text-truncate\" data-placement=\"bottom\" data-toggle=\"tooltip\" title=\"0x6b50911190cffd34b50d575706639c24aafdc625\">0x6b50911190cffd34b50d575706639c24aafdc625</span>, <a class=\"hash-tag text-truncate\" data-placement=\"bottom\" data-toggle=\"tooltip\" href=\"/address/0xb7eabe36163491d2c358d2d0cf399dc135528aa2\" title=\"0xb7eabe36163491d2c358d2d0cf399dc135528aa2\">0xb7eabe36163491d2c358d2d0cf399dc135528aa2</a>, <a class=\"hash-tag text-truncate\" href=\"/tx/0x3f35ba3ec15e57c0b900f7a50ea6fd5cbda484e471926a23a771d7ed16b1ca3c\">0x3f35ba3ec15e57c0b900f7a50ea6fd5cbda484e471926a23a771d7ed16b1ca3c</a>, <span class=\"hash-tag text-truncate\" data-placement=\"bottom\" data-toggle=\"tooltip\" title=\"0x6b50911190cffd34b50d575706639c24aafdc625\">0x6b50911190cffd34b50d575706639c24aafdc625</span>, <a class=\"hash-tag text-truncate\" data-placement=\"bottom\" data-toggle=\"tooltip\" href=\"/address/0x33c3e769381a8a6beb278542b37e4585801f65db\" title=\"0x33c3e769381a8a6beb278542b37e4585801f65db\">0x33c3e769381a8a6beb278542b37e4585801f65db</a>, <a class=\"hash-tag text-truncate\" href=\"/tx/0x9e366855d45d91f5a92ebe25db9b23979815f6fb2e16c8bf1239a825dde19f48\">0x9e366855d45d91f5a92ebe25db9b23979815f6fb2e16c8bf1239a825dde19f48</a>, <span class=\"hash-tag text-truncate\" data-placement=\"bottom\" data-toggle=\"tooltip\" title=\"0x6b50911190cffd34b50d575706639c24aafdc625\">0x6b50911190cffd34b50d575706639c24aafdc625</span>, <a class=\"hash-tag text-truncate\" data-placement=\"bottom\" data-toggle=\"tooltip\" href=\"/address/0xe2691f2572b26ea95cb8f8667e46eca96cc1fa72\" title=\"0xe2691f2572b26ea95cb8f8667e46eca96cc1fa72\">0xe2691f2572b26ea95cb8f8667e46eca96cc1fa72</a>, <a class=\"hash-tag text-truncate\" href=\"/tx/0x843cb677d6795314293a5a1ee5d508f717540c90d1560683d92e2520c28a736d\">0x843cb677d6795314293a5a1ee5d508f717540c90d1560683d92e2520c28a736d</a>, <span class=\"hash-tag text-truncate\" data-placement=\"bottom\" data-toggle=\"tooltip\" title=\"0x6b50911190cffd34b50d575706639c24aafdc625\">0x6b50911190cffd34b50d575706639c24aafdc625</span>, <a class=\"hash-tag text-truncate\" data-placement=\"bottom\" data-toggle=\"tooltip\" href=\"/address/0x08557f4fd7cb11127179786c4293661ac42ca03c\" title=\"0x08557f4fd7cb11127179786c4293661ac42ca03c\">0x08557f4fd7cb11127179786c4293661ac42ca03c</a>, <a class=\"hash-tag text-truncate\" href=\"/tx/0x165db40a024888015d8dd3f304966696bb4459b8899c8fb31aad90fa4e227321\">0x165db40a024888015d8dd3f304966696bb4459b8899c8fb31aad90fa4e227321</a>, <span class=\"hash-tag text-truncate\" data-placement=\"bottom\" data-toggle=\"tooltip\" title=\"0x6b50911190cffd34b50d575706639c24aafdc625\">0x6b50911190cffd34b50d575706639c24aafdc625</span>, <a class=\"hash-tag text-truncate\" data-placement=\"bottom\" data-toggle=\"tooltip\" href=\"/address/0x5d674041545ac7a8f3a71bfcbe490e96eff93859\" title=\"0x5d674041545ac7a8f3a71bfcbe490e96eff93859\">0x5d674041545ac7a8f3a71bfcbe490e96eff93859</a>, <a class=\"hash-tag text-truncate\" href=\"/tx/0xe577fa72871f1083e8f9e8d94bbe73f476cdd5e91dd4a22c570711b6b3be6fde\">0xe577fa72871f1083e8f9e8d94bbe73f476cdd5e91dd4a22c570711b6b3be6fde</a>, <span class=\"hash-tag text-truncate\" data-placement=\"bottom\" data-toggle=\"tooltip\" title=\"0x6b50911190cffd34b50d575706639c24aafdc625\">0x6b50911190cffd34b50d575706639c24aafdc625</span>, <a class=\"hash-tag text-truncate\" data-placement=\"bottom\" data-toggle=\"tooltip\" href=\"/address/0x0bd8cfccc3d8c82b99ddf1d4a89b90ea49750ede\" title=\"0x0bd8cfccc3d8c82b99ddf1d4a89b90ea49750ede\">0x0bd8cfccc3d8c82b99ddf1d4a89b90ea49750ede</a>, <a class=\"hash-tag text-truncate\" href=\"/tx/0xa52d6096b1b3afb51d2e67748efb229cf0d478a9c4d42a4945b730bafd1b5e8d\">0xa52d6096b1b3afb51d2e67748efb229cf0d478a9c4d42a4945b730bafd1b5e8d</a>, <span class=\"hash-tag text-truncate\" data-placement=\"bottom\" data-toggle=\"tooltip\" title=\"0x6b50911190cffd34b50d575706639c24aafdc625\">0x6b50911190cffd34b50d575706639c24aafdc625</span>, <a class=\"hash-tag text-truncate\" data-placement=\"bottom\" data-toggle=\"tooltip\" href=\"/address/0xdfd4547fa03eb7f6d7f51c815d06588fe15add50\" title=\"0xdfd4547fa03eb7f6d7f51c815d06588fe15add50\">0xdfd4547fa03eb7f6d7f51c815d06588fe15add50</a>, <a class=\"hash-tag text-truncate\" href=\"/tx/0x4c1d2c3b5501eaf2d2f0fe9592c054b744986000e4b99f09f6cd89c7648c8f02\">0x4c1d2c3b5501eaf2d2f0fe9592c054b744986000e4b99f09f6cd89c7648c8f02</a>, <span class=\"hash-tag text-truncate\" data-placement=\"bottom\" data-toggle=\"tooltip\" title=\"0x6b50911190cffd34b50d575706639c24aafdc625\">0x6b50911190cffd34b50d575706639c24aafdc625</span>, <a class=\"hash-tag text-truncate\" data-placement=\"bottom\" data-toggle=\"tooltip\" href=\"/address/0xd22d5c86c0beb9c167623da359ab44844f112c64\" title=\"0xd22d5c86c0beb9c167623da359ab44844f112c64\">0xd22d5c86c0beb9c167623da359ab44844f112c64</a>, <a class=\"hash-tag text-truncate\" href=\"/tx/0xcde24bf1f2fdbbfb6b1923c4ee5b651fd9aa24403790039c86952c4bfd869a6e\">0xcde24bf1f2fdbbfb6b1923c4ee5b651fd9aa24403790039c86952c4bfd869a6e</a>, <span class=\"hash-tag text-truncate\" data-placement=\"bottom\" data-toggle=\"tooltip\" title=\"0x6b50911190cffd34b50d575706639c24aafdc625\">0x6b50911190cffd34b50d575706639c24aafdc625</span>, <a class=\"hash-tag text-truncate\" data-placement=\"bottom\" data-toggle=\"tooltip\" href=\"/address/0xdc53ce1764ee7b4862568326e308f22721aa75b1\" title=\"0xdc53ce1764ee7b4862568326e308f22721aa75b1\">0xdc53ce1764ee7b4862568326e308f22721aa75b1</a>, <a class=\"hash-tag text-truncate\" href=\"/tx/0x299b8458c637fefc7e6d91d928a9bf994693d1f60bc8c7f474425e727efee479\">0x299b8458c637fefc7e6d91d928a9bf994693d1f60bc8c7f474425e727efee479</a>, <span class=\"hash-tag text-truncate\" data-placement=\"bottom\" data-toggle=\"tooltip\" title=\"0x6b50911190cffd34b50d575706639c24aafdc625\">0x6b50911190cffd34b50d575706639c24aafdc625</span>, <a class=\"hash-tag text-truncate\" data-placement=\"bottom\" data-toggle=\"tooltip\" href=\"/address/0x2b1d8766a2840a3f7dc60b6427735e7c8c90aecd\" title=\"0x2b1d8766a2840a3f7dc60b6427735e7c8c90aecd\">0x2b1d8766a2840a3f7dc60b6427735e7c8c90aecd</a>, <a class=\"hash-tag text-truncate\" href=\"/tx/0xddfa793d4aa00b7c17e03df952d35e9418a21bcdc5160f9d036f56e6b329bf4d\">0xddfa793d4aa00b7c17e03df952d35e9418a21bcdc5160f9d036f56e6b329bf4d</a>, <span class=\"hash-tag text-truncate\" data-placement=\"bottom\" data-toggle=\"tooltip\" title=\"0x6b50911190cffd34b50d575706639c24aafdc625\">0x6b50911190cffd34b50d575706639c24aafdc625</span>, <a class=\"hash-tag text-truncate\" data-placement=\"bottom\" data-toggle=\"tooltip\" href=\"/address/0x9a1a018ef2a7a0aa21d268e7fea1170b0435ac7c\" title=\"0x9a1a018ef2a7a0aa21d268e7fea1170b0435ac7c\">0x9a1a018ef2a7a0aa21d268e7fea1170b0435ac7c</a>, <a class=\"hash-tag text-truncate\" href=\"/tx/0xe7ab3afde9d5464ab3f8bad009dfcbe0c3db37a0fa45277da05da07aca405a13\">0xe7ab3afde9d5464ab3f8bad009dfcbe0c3db37a0fa45277da05da07aca405a13</a>, <span class=\"hash-tag text-truncate\" data-placement=\"bottom\" data-toggle=\"tooltip\" title=\"0x6b50911190cffd34b50d575706639c24aafdc625\">0x6b50911190cffd34b50d575706639c24aafdc625</span>, <a class=\"hash-tag text-truncate\" data-placement=\"bottom\" data-toggle=\"tooltip\" href=\"/address/0x2406f9e2ebddb16c05ac23f092fbef87d7ad8ac1\" title=\"0x2406f9e2ebddb16c05ac23f092fbef87d7ad8ac1\">0x2406f9e2ebddb16c05ac23f092fbef87d7ad8ac1</a>, <a class=\"hash-tag text-truncate\" href=\"/tx/0xa5f9252f3e0a07bbe49c7ba88fd92bef7c9a04569492375ef5dd986af343eeaf\">0xa5f9252f3e0a07bbe49c7ba88fd92bef7c9a04569492375ef5dd986af343eeaf</a>, <span class=\"hash-tag text-truncate\" data-placement=\"bottom\" data-toggle=\"tooltip\" title=\"0x6b50911190cffd34b50d575706639c24aafdc625\">0x6b50911190cffd34b50d575706639c24aafdc625</span>, <a class=\"hash-tag text-truncate\" data-placement=\"bottom\" data-toggle=\"tooltip\" href=\"/address/0x33c3e769381a8a6beb278542b37e4585801f65db\" title=\"0x33c3e769381a8a6beb278542b37e4585801f65db\">0x33c3e769381a8a6beb278542b37e4585801f65db</a>, <a class=\"hash-tag text-truncate\" href=\"/tx/0xcf9994ccf7547f02d3d9aef9541179d43947479416b9645ae15a20aeafb47782\">0xcf9994ccf7547f02d3d9aef9541179d43947479416b9645ae15a20aeafb47782</a>, <span class=\"hash-tag text-truncate\" data-placement=\"bottom\" data-toggle=\"tooltip\" title=\"0x6b50911190cffd34b50d575706639c24aafdc625\">0x6b50911190cffd34b50d575706639c24aafdc625</span>, <a class=\"hash-tag text-truncate\" data-placement=\"bottom\" data-toggle=\"tooltip\" href=\"/address/0x9b48db222cb23c04a7c9481cca568088222969da\" title=\"0x9b48db222cb23c04a7c9481cca568088222969da\">0x9b48db222cb23c04a7c9481cca568088222969da</a>, <a class=\"hash-tag text-truncate\" href=\"/tx/0xb05155120ca647c919107165f49c3ceffe55f0d06ee0077ef5abb827d42eade8\">0xb05155120ca647c919107165f49c3ceffe55f0d06ee0077ef5abb827d42eade8</a>, <span class=\"hash-tag text-truncate\" data-placement=\"bottom\" data-toggle=\"tooltip\" title=\"0x6b50911190cffd34b50d575706639c24aafdc625\">0x6b50911190cffd34b50d575706639c24aafdc625</span>, <a class=\"hash-tag text-truncate\" data-placement=\"bottom\" data-toggle=\"tooltip\" href=\"/address/0xa4d1dd43bb9a4e210db53bb92f61b44083e61193\" title=\"0xa4d1dd43bb9a4e210db53bb92f61b44083e61193\">0xa4d1dd43bb9a4e210db53bb92f61b44083e61193</a>, <a class=\"hash-tag text-truncate\" href=\"/tx/0x6a572efd0546f5a7b382ecb9cc370556aaade728688d82d3de4abc1c3c2dd0ff\">0x6a572efd0546f5a7b382ecb9cc370556aaade728688d82d3de4abc1c3c2dd0ff</a>, <span class=\"hash-tag text-truncate\" data-placement=\"bottom\" data-toggle=\"tooltip\" title=\"0x6b50911190cffd34b50d575706639c24aafdc625\">0x6b50911190cffd34b50d575706639c24aafdc625</span>, <a class=\"hash-tag text-truncate\" data-placement=\"bottom\" data-toggle=\"tooltip\" href=\"/address/0x7142d0abb73b47c876c2e79566ba5f7c586fec80\" title=\"0x7142d0abb73b47c876c2e79566ba5f7c586fec80\">0x7142d0abb73b47c876c2e79566ba5f7c586fec80</a>, <a class=\"hash-tag text-truncate\" href=\"/tx/0xa8968a8cfda5f5c3ad42009d7bab26877d8e4878ba8efb6c5ed8035512eb1265\">0xa8968a8cfda5f5c3ad42009d7bab26877d8e4878ba8efb6c5ed8035512eb1265</a>, <span class=\"hash-tag text-truncate\" data-placement=\"bottom\" data-toggle=\"tooltip\" title=\"0x6b50911190cffd34b50d575706639c24aafdc625\">0x6b50911190cffd34b50d575706639c24aafdc625</span>, <a class=\"hash-tag text-truncate\" data-placement=\"bottom\" data-toggle=\"tooltip\" href=\"/address/0xb66b6df83e9f3c8f94d9baae74d1a322e9f5eeeb\" title=\"0xb66b6df83e9f3c8f94d9baae74d1a322e9f5eeeb\">0xb66b6df83e9f3c8f94d9baae74d1a322e9f5eeeb</a>, <a class=\"hash-tag text-truncate\" href=\"/tx/0xf77eeac69d65ca0e37209ab8f5aa170c9dc6773ba369e714e3f88203a18047ff\">0xf77eeac69d65ca0e37209ab8f5aa170c9dc6773ba369e714e3f88203a18047ff</a>, <span class=\"hash-tag text-truncate\" data-placement=\"bottom\" data-toggle=\"tooltip\" title=\"0x6b50911190cffd34b50d575706639c24aafdc625\">0x6b50911190cffd34b50d575706639c24aafdc625</span>, <a class=\"hash-tag text-truncate\" data-placement=\"bottom\" data-toggle=\"tooltip\" href=\"/address/0x266e878d077b80aa0651a55540aea4e5203b2570\" title=\"0x266e878d077b80aa0651a55540aea4e5203b2570\">0x266e878d077b80aa0651a55540aea4e5203b2570</a>, <a class=\"hash-tag text-truncate\" href=\"/tx/0x5e71a09c87ed7eda4ebc4b0211e1b45cbdda5164218130456c85fd8daee73962\">0x5e71a09c87ed7eda4ebc4b0211e1b45cbdda5164218130456c85fd8daee73962</a>, <span class=\"hash-tag text-truncate\" data-placement=\"bottom\" data-toggle=\"tooltip\" title=\"0x6b50911190cffd34b50d575706639c24aafdc625\">0x6b50911190cffd34b50d575706639c24aafdc625</span>, <a class=\"hash-tag text-truncate\" data-placement=\"bottom\" data-toggle=\"tooltip\" href=\"/address/0x1f5667eea34d87834e76e4125f369f332cebb9b2\" title=\"0x1f5667eea34d87834e76e4125f369f332cebb9b2\">0x1f5667eea34d87834e76e4125f369f332cebb9b2</a>, <a class=\"hash-tag text-truncate\" href=\"/tx/0xe08d22eb9fc6a3f12dfef2e56c36cfb129c522a9dd7961ad9d9b66864bf0d0a5\">0xe08d22eb9fc6a3f12dfef2e56c36cfb129c522a9dd7961ad9d9b66864bf0d0a5</a>, <span class=\"hash-tag text-truncate\" data-placement=\"bottom\" data-toggle=\"tooltip\" title=\"0x6b50911190cffd34b50d575706639c24aafdc625\">0x6b50911190cffd34b50d575706639c24aafdc625</span>, <a class=\"hash-tag text-truncate\" data-placement=\"bottom\" data-toggle=\"tooltip\" href=\"/address/0x716a35ee2ba9476d413e0987d535c62c652ac056\" title=\"0x716a35ee2ba9476d413e0987d535c62c652ac056\">0x716a35ee2ba9476d413e0987d535c62c652ac056</a>, <a class=\"hash-tag text-truncate\" href=\"/tx/0x44566a374d1bb6b4d587a07dca3c9cccc32c41ce9a27f500b3eae09609d72adc\">0x44566a374d1bb6b4d587a07dca3c9cccc32c41ce9a27f500b3eae09609d72adc</a>, <span class=\"hash-tag text-truncate\" data-placement=\"bottom\" data-toggle=\"tooltip\" title=\"0x6b50911190cffd34b50d575706639c24aafdc625\">0x6b50911190cffd34b50d575706639c24aafdc625</span>, <a class=\"hash-tag text-truncate\" data-placement=\"bottom\" data-toggle=\"tooltip\" href=\"/address/0xb3890fbe2abdff8164175c6bbdb5f3779c5cdac2\" title=\"0xb3890fbe2abdff8164175c6bbdb5f3779c5cdac2\">0xb3890fbe2abdff8164175c6bbdb5f3779c5cdac2</a>, <a class=\"hash-tag text-truncate\" href=\"/tx/0xced6f8f611c37395c0f5ea1cf71df4878a2cb3aab5a44735ff9bb19f820f4386\">0xced6f8f611c37395c0f5ea1cf71df4878a2cb3aab5a44735ff9bb19f820f4386</a>, <span class=\"hash-tag text-truncate\" data-placement=\"bottom\" data-toggle=\"tooltip\" title=\"0x6b50911190cffd34b50d575706639c24aafdc625\">0x6b50911190cffd34b50d575706639c24aafdc625</span>, <a class=\"hash-tag text-truncate\" data-placement=\"bottom\" data-toggle=\"tooltip\" href=\"/address/0xff05715b5e540a37745ab5ccb88df7a49be95556\" title=\"0xff05715b5e540a37745ab5ccb88df7a49be95556\">0xff05715b5e540a37745ab5ccb88df7a49be95556</a>, <a class=\"hash-tag text-truncate\" href=\"/tx/0x531566e5b7ca1344e751550892426a4d0522b1479d2a918d3771590c5f1dbea7\">0x531566e5b7ca1344e751550892426a4d0522b1479d2a918d3771590c5f1dbea7</a>, <span class=\"hash-tag text-truncate\" data-placement=\"bottom\" data-toggle=\"tooltip\" title=\"0x6b50911190cffd34b50d575706639c24aafdc625\">0x6b50911190cffd34b50d575706639c24aafdc625</span>, <a class=\"hash-tag text-truncate\" data-placement=\"bottom\" data-toggle=\"tooltip\" href=\"/address/0x2b1d8766a2840a3f7dc60b6427735e7c8c90aecd\" title=\"0x2b1d8766a2840a3f7dc60b6427735e7c8c90aecd\">0x2b1d8766a2840a3f7dc60b6427735e7c8c90aecd</a>, <a class=\"hash-tag text-truncate\" href=\"/tx/0xe6bd7c3a95e4d9fec5ace703f57eccf9fb9b2e0d8d9f052e51752d7257239ef2\">0xe6bd7c3a95e4d9fec5ace703f57eccf9fb9b2e0d8d9f052e51752d7257239ef2</a>, <span class=\"hash-tag text-truncate\" data-placement=\"bottom\" data-toggle=\"tooltip\" title=\"0x6b50911190cffd34b50d575706639c24aafdc625\">0x6b50911190cffd34b50d575706639c24aafdc625</span>, <a class=\"hash-tag text-truncate\" data-placement=\"bottom\" data-toggle=\"tooltip\" href=\"/address/0x2b1b6a2a1849351becc57091ad4bfd8413be5845\" title=\"0x2b1b6a2a1849351becc57091ad4bfd8413be5845\">0x2b1b6a2a1849351becc57091ad4bfd8413be5845</a>]\n"
     ]
    }
   ],
   "source": [
    "import requests\n",
    "from bs4 import BeautifulSoup\n",
    "from urllib.request import urlopen\n",
    "\n",
    "input_data = input(\"Search by Address : \").lower() # etherium 주소를 입력받고 소문자 치환\n",
    "URL = f\"https://etherscan.io/address/{input_data}\" # etherscan.io 주소 URL 변수에 선언\n",
    "#URL = \"https://etherscan.io/address/0x6b50911190cffd34b50d575706639c24aafdc625\"\n",
    "print(URL + \"\\n\" + \"-\"*70) # -*70줄 프린트\n",
    "\n",
    "headers = {'User-Agent': 'Mozilla/5.0'} # header 선언, http 요청 브라우저는 Mozilla.\n",
    "resp = requests.get(URL, headers=headers) # http get 요청을 resp 변수에 선언\n",
    "print(resp) # 요청 프린트\n",
    "print(URL + \"\\n\" + \"-\"*70) # -*70줄 프린트\n",
    "\n",
    "# parameter 전달법 확인\n",
    "params = {'key':'value'}\n",
    "res = requests.get(URL, params=params)\n",
    "res.url\n",
    "print(URL + \"\\n\" + \"-\"*70) # -*70줄 프린트\n",
    "\n",
    "im = BeautifulSoup(resp.text, 'html.parser') #세션을 가져와서 html을 text로 parsing, im 변수에 선언\n",
    "tag = im.find_all(attrs={'class':'hash-tag text-truncate'}) #im 변수에서 hash-tag text-truncate class를 저장\n",
    "print(tag) #가공되지 않은 크롤링 값 출력"
   ]
  },
  {
   "cell_type": "code",
   "execution_count": null,
   "metadata": {},
   "outputs": [],
   "source": []
  }
 ],
 "metadata": {
  "kernelspec": {
   "display_name": "Python 3",
   "language": "python",
   "name": "python3"
  },
  "language_info": {
   "codemirror_mode": {
    "name": "ipython",
    "version": 3
   },
   "file_extension": ".py",
   "mimetype": "text/x-python",
   "name": "python",
   "nbconvert_exporter": "python",
   "pygments_lexer": "ipython3",
   "version": "3.8.3"
  }
 },
 "nbformat": 4,
 "nbformat_minor": 4
}
