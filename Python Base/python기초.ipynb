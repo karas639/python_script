{
 "cells": [
  {
   "cell_type": "markdown",
   "metadata": {},
   "source": [
    "# 변수와 출력방식"
   ]
  },
  {
   "cell_type": "code",
   "execution_count": null,
   "metadata": {},
   "outputs": [],
   "source": [
    "\"\"\"a=\"student\"\n",
    "print(type(a))\n",
    "\"\"\"\n",
    "#출력방식\n",
    "\"\"\"print(\"number\")\n",
    "a,b,c=1,2,3\n",
    "print(a,b,c)\n",
    "print(\"number\", a,b,c)\n",
    "print(\"====================\")\n",
    "print(a, b, c, sep=', ')\n",
    "print(a, b, c, sep=',')\n",
    "print(a, b, c, sep='')\n",
    "print(a, b, c, sep='\\n')\n",
    "print(\"====================\")\n",
    "\"\"\"\n",
    "#a,b,c=1,2,3\n",
    "#print(a, end=' ')\n",
    "#print(b, end=' ')\n",
    "#print(c, end=' ')\n",
    "\"\"\"\n",
    "print(\"---\")\n",
    "d,e,f=4,5,6\n",
    "print(d,e,f)\n",
    "print(\"number :\", d,e,f)\n",
    "print(\"====\")\n",
    "\n",
    "\"\"\"\n",
    "\n",
    "#변수입력과 연산자\n",
    "'''a, b=input(\"숫자를 입력하세요 :\").split() # 1 2 과 같이 띄어쓰기 하여 값을 입력\n",
    "print(type(a)) # a와 b가 스트링 형(문자)으로 나와서 더하기가 안되고 붙여출력\n",
    "c=a+b\n",
    "print(a+b)\n",
    "print(type(c)) # c도 역시 str형\n",
    "print(c)\n",
    "'''\n",
    "\n",
    "'''a, b=input(\"숫자를 입력하세요 :\").split()\n",
    "a=int(a)\n",
    "print(a)\n",
    "print(type(a))\n",
    "b=int(b)\n",
    "print(b)\n",
    "print(a+b)'''\n",
    "\n",
    "'''\n",
    "# int형으로 한번에 바꾸는 법 map, int 사용하여 정수화 시켜서 출력하기\n",
    "# 연산자도 실습\n",
    "a, b=map(int, input(\"숫자를 입력하세요 : \").split())\n",
    "print(a+b)\n",
    "print(a-b)\n",
    "print(a*b)\n",
    "print(a/b) #나누기\n",
    "print(a//b) #몫\n",
    "print(a%b) # a를 b로 나눈 나머지\n",
    "print(a**b) #a를 b번 곱한\n",
    "'''\n",
    "'''\n",
    "# 실수형과 정수형의 사칙연산 -> 결과는 실수형이된다?\n",
    "a=4.3\n",
    "b=5\n",
    "c=a+b\n",
    "#실수가 정수보다 넓은 범위이기 때문에 결과는 실수형으로 나온다(float형으로.)\n",
    "print(c)\n",
    "'''"
   ]
  },
  {
   "cell_type": "markdown",
   "metadata": {},
   "source": [
    "# 문자열과 내장함수"
   ]
  },
  {
   "cell_type": "code",
   "execution_count": null,
   "metadata": {},
   "outputs": [],
   "source": [
    "'''문자열과 내장함수'''\n",
    "\n",
    "'''\n",
    "'''\n",
    "\n",
    "msg=\"It is Time\"\n",
    "print(msg.upper())\n",
    "print(msg.lower())\n",
    "print(msg)\n",
    "tmp=msg.upper()\n",
    "print(tmp)\n",
    "print(tmp.find('T')) #문자하나하나를 인덱스로 접근이 가\n",
    "print(tmp.find('I'))\n",
    "print(tmp.count('T'))\n",
    "print(msg)\n",
    "print(msg[:2])\n",
    "print(msg[:3])\n",
    "print(msg[3:5])\n",
    "print(\"==================\")\n",
    "\n",
    "print(len(msg))\n",
    "for i in range(len(msg)): #i는 0부터 9까지 돈다\n",
    "    print(msg[i], end=' ')\n",
    "print()\n",
    "\n",
    "\n",
    "for x in msg:\n",
    "    print(x, end=' ')\n",
    "print()\n",
    "\n",
    "msg1=\"dongwook KIM\"\n",
    "for x in range(len(msg1)):\n",
    "    print(msg1[x], end=' ')\n",
    "print()\n",
    "\n",
    "for x in msg:\n",
    "    if x.isupper(): #x가 대문자이면 참(isupper), 반대로 소문자 참은 islower\n",
    "        print(x, end='')\n",
    "print()\n",
    "\n",
    "for x in msg:\n",
    "    if x.islower():\n",
    "        print(x, end=' ')\n",
    "print()\n",
    "\n",
    "for x in msg:\n",
    "    if x.isalpha(): #문자열에 대해 알파벳만 출\n",
    "        print(x, end='')\n",
    "print()\n",
    "\n",
    "tmp='AZ'\n",
    "# Ascii 넘버 확인 - ord\n",
    "\n",
    "for x in tmp:\n",
    "    print(ord(x)) #ord가 아스키넘버를 출력하는 것\n",
    "#A의 아스키넘버는 65\n",
    "#Z의 아스키넘버는 90\n",
    "\n",
    "\n",
    "tmp1=(tmp.lower())\n",
    "print(tmp1)\n",
    "\n",
    "for x in tmp1:\n",
    "    print(ord(x))\n",
    "\n",
    "#아스키넘버에 해당되는 문자를 출력 ord와 반대 -> chr\n",
    "tmp=66\n",
    "print(chr(tmp))\n"
   ]
  },
  {
   "cell_type": "markdown",
   "metadata": {},
   "source": [
    "# 리스트와 내장함수(2)"
   ]
  },
  {
   "cell_type": "code",
   "execution_count": 11,
   "metadata": {},
   "outputs": [
    {
     "name": "stdout",
     "output_type": "stream",
     "text": [
      "[23, 12, 36]\n",
      "[12, 36, 53]\n",
      "5\n",
      "23 12 36 53 19 \n",
      "23 12 36 53 19 \n",
      "23 53 19 \n",
      "(0, 23)\n",
      "(1, 12)\n",
      "(2, 36)\n",
      "(3, 53)\n",
      "(4, 19)\n",
      "\n",
      "1\n",
      "0 23\n",
      "1 12\n",
      "2 36\n",
      "3 53\n",
      "4 19\n",
      "\n",
      "0 23\n",
      "1 12\n",
      "2 36\n",
      "3 53\n",
      "4 19\n",
      "\n",
      "YES\n",
      "NO\n"
     ]
    }
   ],
   "source": [
    "'''리스트와 내장함수(2)'''\n",
    "a=[23,12,36,53,19]\n",
    "print(a[:3])\n",
    "print(a[1:4])\n",
    "print(len(a)) #리스트에 값이 몇개가 있는\n",
    "\n",
    "for i in range(len(a)):\n",
    "    print(a[i], end=' ') # i에 값을 하나하나 넣으면서 출력하는데 옆으로 출력(end)\n",
    "    \n",
    "print()\n",
    "\n",
    "for x in a:\n",
    "    print(x, end=' ') #위 for 문과 똑같이 출력됨\n",
    "print()\n",
    "\n",
    "for y in a:\n",
    "    if y%2==1:\n",
    "        print(y, end=' ')\n",
    "print()\n",
    "\n",
    "\n",
    "for z in enumerate(a):\n",
    "    print(z)    #z가 튜플이라는 자료형으로 출력됨 (소괄호가 튜플형)\n",
    "\n",
    "print()\n",
    "\n",
    "\n",
    "b=(1,2,3,4,5)\n",
    "print(b[0])\n",
    "# 튜플이 리스트와 다른 것은 b[0]에 1의 값이 있는데 새로운 값을 넣고자하는 경우 에러발생\n",
    "# b[0]=7 --> 실행하는 순간 에러발생, b가 리스트[] 일 경우는 가능\n",
    "# print(b[0])\n",
    "\n",
    "for x in enumerate(a):\n",
    "    print(x[0], x[1])\n",
    "print()\n",
    "\n",
    "for index, value in enumerate(a):\n",
    "    print(index, value)\n",
    "print()\n",
    "\n",
    "\n",
    "\n",
    "#all 함수, for문이 a에 접근하여 x의 값이 될때 그 값을 60과 비교하는데,\n",
    "#현재 a의 값이 해당 조건에 비교하여 참일 경우 참을 리턴,\n",
    "#하나라도 거짓이면 거짓을 리턴한다\n",
    "\n",
    "\n",
    "if all(60>x for x in a):    \n",
    "    print(\"YES\")\n",
    "else:\n",
    "    print(\"NO\")\n",
    "\n",
    "\n",
    "if all(50>x for x in a):\n",
    "    print(\"YES\")\n",
    "else:\n",
    "    print(\"NO\")"
   ]
  },
  {
   "cell_type": "code",
   "execution_count": 6,
   "metadata": {},
   "outputs": [
    {
     "name": "stdout",
     "output_type": "stream",
     "text": [
      "[1, 3, 5, 7, 9]\n",
      "[10, 8, 6, 4, 2]\n"
     ]
    }
   ],
   "source": [
    "lst = [1, 2, 3, 4, 5, 6, 7, 8, 9, 10]\n",
    "print(lst[::2])\n",
    "print(lst[::-2])"
   ]
  },
  {
   "cell_type": "code",
   "execution_count": 13,
   "metadata": {},
   "outputs": [
    {
     "name": "stdout",
     "output_type": "stream",
     "text": [
      "[1, 2, 3, 4, 5, 6, 7, 8]\n",
      "[1, 3, 8, 6]\n",
      "[1, 2, 3, 4, 1, 2, 3, 4]\n",
      "[1, 3, 1, 3]\n"
     ]
    }
   ],
   "source": [
    "lst_a = [1, 2, 3, 4]\n",
    "lst_b = [5, 6, 7, 8]\n",
    "print(lst_a + lst_b)\n",
    "print(lst_a[::2] + lst_b[::-2])\n",
    "print(lst_a * 2)\n",
    "print(lst_a[::2] * 2)"
   ]
  },
  {
   "cell_type": "code",
   "execution_count": 29,
   "metadata": {},
   "outputs": [
    {
     "name": "stdout",
     "output_type": "stream",
     "text": [
      "[1, 2, 3, 4, 5, 6]\n",
      "[0, 1, 2, 3, 4, 5, 6]\n",
      "[0, 1, 2, 3, 4, 5, -2, 6]\n",
      "[0, 1, 2, 3, 4, 5, -2, 8, 6]\n"
     ]
    }
   ],
   "source": [
    "lst = [1, 2, 3, 4, 5]\n",
    "lst.append(6)\n",
    "print(lst)\n",
    "lst.insert(0, 0)\n",
    "print(lst)\n",
    "lst.insert(-1, -2)\n",
    "print(lst)\n",
    "lst.insert(-1,8)\n",
    "print(lst)"
   ]
  },
  {
   "cell_type": "code",
   "execution_count": 31,
   "metadata": {},
   "outputs": [
    {
     "name": "stdout",
     "output_type": "stream",
     "text": [
      "[1, 3, 4]\n",
      "[3]\n"
     ]
    }
   ],
   "source": [
    "lst = [1, 2, 3, 4]\n",
    "del lst[1]\n",
    "print(lst)\n",
    "del lst[::2]\n",
    "print(lst)"
   ]
  },
  {
   "cell_type": "code",
   "execution_count": 32,
   "metadata": {},
   "outputs": [
    {
     "name": "stdout",
     "output_type": "stream",
     "text": [
      "4\n",
      "[1, 2, 3]\n"
     ]
    }
   ],
   "source": [
    "lst = [1, 2, 3, 4]\n",
    "print(lst.pop())\n",
    "print(lst)"
   ]
  },
  {
   "cell_type": "code",
   "execution_count": 38,
   "metadata": {},
   "outputs": [
    {
     "name": "stdout",
     "output_type": "stream",
     "text": [
      "[3, 6, 7, 4, 5, 6]\n"
     ]
    }
   ],
   "source": [
    "lst = [5, 3, 6, 7, 4, 5, 6]\n",
    "lst.remove(5)\n",
    "print(lst)"
   ]
  },
  {
   "cell_type": "code",
   "execution_count": 39,
   "metadata": {},
   "outputs": [
    {
     "name": "stdout",
     "output_type": "stream",
     "text": [
      "[1, 2, 3]\n",
      "[1, 2]\n",
      "[1]\n",
      "[]\n"
     ]
    }
   ],
   "source": [
    "lst = [1, 2, 3, 4]\n",
    "\n",
    "while lst:\n",
    "    lst.pop()\n",
    "    print(lst)"
   ]
  },
  {
   "cell_type": "code",
   "execution_count": 40,
   "metadata": {
    "scrolled": true
   },
   "outputs": [
    {
     "name": "stdout",
     "output_type": "stream",
     "text": [
      "3\n"
     ]
    }
   ],
   "source": [
    "lst = [1, 2, 3, 4]\n",
    "print(lst.index(4))"
   ]
  },
  {
   "cell_type": "code",
   "execution_count": 50,
   "metadata": {
    "scrolled": true
   },
   "outputs": [
    {
     "name": "stdout",
     "output_type": "stream",
     "text": [
      "[0, 1, 2, 3, 4, 5, 6, 7, 8, 9, 10]\n",
      "[10, 9, 8, 7, 6, 5, 4, 3, 2, 1, 0]\n",
      "['a', 'b', 'c', 'e', 'f']\n",
      "['f', 'e', 'c', 'b', 'a']\n"
     ]
    }
   ],
   "source": [
    "lst = [2, 5, 6, 8, 3, 1, 0, 9, 4, 7, 10]\n",
    "lst.sort()\n",
    "print(lst)\n",
    "lst.reverse()\n",
    "print(lst)\n",
    "lst_a = ['c', 'f', 'a', 'e', 'b']\n",
    "lst_a.sort()\n",
    "print(lst_a)\n",
    "lst_a.reverse()\n",
    "print(lst_a)"
   ]
  },
  {
   "cell_type": "code",
   "execution_count": 2,
   "metadata": {},
   "outputs": [
    {
     "name": "stdout",
     "output_type": "stream",
     "text": [
      "99 101 97 102 98 "
     ]
    }
   ],
   "source": [
    "lst = ['c', 'e', 'a', 'f', 'b']\n",
    "for i in lst:\n",
    "    print(ord(i), end=' ')"
   ]
  },
  {
   "cell_type": "code",
   "execution_count": 1,
   "metadata": {},
   "outputs": [
    {
     "name": "stdout",
     "output_type": "stream",
     "text": [
      "10\n",
      "0 1 2 3 4 5 6 7 8 9 "
     ]
    }
   ],
   "source": [
    "lst = [3, 4, 5, 6, 7, 8, 8, 3, 4, 5]\n",
    "print(len(lst))\n",
    "for i in range(len(lst)):\n",
    "    print(i, end=' ')"
   ]
  },
  {
   "cell_type": "markdown",
   "metadata": {},
   "source": [
    "# 2차원 리스트 생성과 접근"
   ]
  },
  {
   "cell_type": "code",
   "execution_count": 10,
   "metadata": {},
   "outputs": [
    {
     "name": "stdout",
     "output_type": "stream",
     "text": [
      "[0, 0, 0]\n",
      "[[0, 0, 0], [0, 0, 0], [0, 0, 0]]\n"
     ]
    }
   ],
   "source": [
    "'''2차원 리스트 생성과 접근'''\n",
    "\n",
    "#1차원 리스트 생성\n",
    "a=[0]*3\n",
    "print(a)\n",
    "\n",
    "#2차원 리스트 생성\n",
    "# for _ in 이렇게 하면 변수 없이 반복문만 돈다.\n",
    "a=[[0]*3 for _ in range(3)]\n",
    "print(a)\n"
   ]
  },
  {
   "cell_type": "markdown",
   "metadata": {},
   "source": [
    "# 딕셔너리(dictionary)"
   ]
  },
  {
   "cell_type": "code",
   "execution_count": 63,
   "metadata": {},
   "outputs": [
    {
     "name": "stdout",
     "output_type": "stream",
     "text": [
      "dict_items([('a', 1), ('b', 2), ('c', 3)])\n",
      "[('a', 1), ('b', 2), ('c', 3)]\n",
      "dict_keys(['a', 'b', 'c'])\n",
      "['a', 'b', 'c']\n",
      "dict_values([1, 2, 3])\n",
      "[1, 2, 3]\n"
     ]
    }
   ],
   "source": [
    "dic = {'a':1, 'b':2, 'c':3}\n",
    "print(dic.items())\n",
    "print(list(dic.items()))\n",
    "print(dic.keys())\n",
    "print(list(dic.keys()))\n",
    "print(dic.values())\n",
    "print(list(dic.values()))"
   ]
  },
  {
   "cell_type": "code",
   "execution_count": 70,
   "metadata": {},
   "outputs": [
    {
     "name": "stdout",
     "output_type": "stream",
     "text": [
      "10\n",
      "1\n",
      "원하는 키값이 없네요\n"
     ]
    }
   ],
   "source": [
    "dic = {'a':1, 'b':2, 'c':3}\n",
    "print(dic.get('d', 10))\n",
    "print(dic.get('a', 20))\n",
    "print(dic.get('e', '원하는 키값이 없네요'))"
   ]
  },
  {
   "cell_type": "code",
   "execution_count": 72,
   "metadata": {
    "scrolled": false
   },
   "outputs": [
    {
     "name": "stdout",
     "output_type": "stream",
     "text": [
      "{'a': 1, 'b': 2, 'c': 3}\n",
      "{}\n"
     ]
    }
   ],
   "source": [
    "dic = {'a':1, 'b':2, 'c':3}\n",
    "print(dic)\n",
    "dic.clear()\n",
    "print(dic)"
   ]
  },
  {
   "cell_type": "code",
   "execution_count": null,
   "metadata": {},
   "outputs": [],
   "source": [
    "#set , 값만으로 이루어진 딕셔너리\n",
    "a = {1, 1, 2 ,3 ,3 ,4 ,1 ,5}\n",
    "print(a)\n",
    "#print(a[0])\n",
    "\n",
    "a = {}\n",
    "\n",
    "\n",
    "print(\"------------------------\")\n",
    "a = [1, 1, 2 ,3 ,3 ,4 ,1 ,5]\n",
    "print(a)\n",
    "\n",
    "b = set(a)\n",
    "print(b)\n",
    "\n",
    "a = {1, 2, 3}\n",
    "b = {2, 3, 4}\n",
    "\n",
    "print(a.union(b)) # 합집합\n",
    "print(a.intersection(b)) # 교집합\n",
    "print(a.difference(b)) # 차집합\n",
    "print(a.issubset(b)) # 부분집합 "
   ]
  },
  {
   "cell_type": "code",
   "execution_count": null,
   "metadata": {},
   "outputs": [],
   "source": [
    "# fastcampus\n",
    "# list\n",
    "'''a = [0, 1, 2, 3, 4, 10, 100, 200, 300]\n",
    "print(a[0])\n",
    "print(a[4])\n",
    "'''\n",
    "\n",
    "# dictionary, 인덱스가 없음\n",
    "\n",
    "a = {'Korea': 'Seoul',\n",
    "     'Canada' : 'Ottawa',\n",
    "     'USA': 'Washington D.C'}\n",
    "\n",
    "print(a)\n",
    "#print(a[0]) #인덱스가 없기 때문에 에러남\n",
    "\n",
    "b = {}\n",
    "print(type(a))\n",
    "print(type(b))\n",
    "\n",
    "b = {0:1, 1:6, 7:9, 8:10}\n",
    "print(b[0]) #b[]안에오는 숫자는 인데스가 아니라 키 값이다. 즉, 0,1,7,8을 제외한 키값의 숫자를\n",
    "#입력하면 에러가 발생\n",
    "\n",
    "#print(b[2]) #2는 키값이 없기 때문에 에러가 발\n",
    "\n",
    "#  키 값 추가\n",
    "a['Japan'] = 'Tokyo'\n",
    "a['China'] = 'Beijing'\n",
    "\n",
    "print(a)\n",
    "\n",
    "# 키 값은 해쉬값으로 저장되어 동일한 키값은 존재할 수 없다.\n",
    "# 존재하는 키에 새로운 값을 넣으면 덮어씌워진다.\n",
    "\n",
    "a = {'a':1, 'b':2, 'c':3}\n",
    "b = {'a':2, 'd':4, 'e':5}\n",
    "# 위와 같은 경우 동일 키 값에 대해서는 업데이트가 되며 나머지 중복되지 않는 키값들은 병합\n",
    "a.update(b)\n",
    "print(a)\n",
    "\n",
    "a.pop('b')\n",
    "print(a)\n",
    "\n",
    "c = 100\n",
    "print(c)\n",
    "\n",
    "del c\n",
    "#print(c)\n",
    "print(a)\n",
    "print(a['c'])\n",
    "\n",
    "#dict 초기화\n",
    "#a.clear()\n",
    "print(a)\n",
    "\n",
    "#in : 키값 존재 확인\n",
    "b = [1, 2, 3, 4, 5, 6, 7, 9, 10, 100]\n",
    "a = {'a':1, 'b':2, 'c':3}\n",
    "print(100 in b)\n",
    "print('b' in a)\n",
    "\n",
    "#value 접근\n",
    "a['b']\n",
    "print(\"===========\")\n",
    "a.get('d') # get을 하면 프로그램이 죽지 않음\n",
    "print(a.get('d'))\n",
    "\n"
   ]
  },
  {
   "cell_type": "markdown",
   "metadata": {},
   "source": [
    "# 반복문"
   ]
  },
  {
   "cell_type": "code",
   "execution_count": null,
   "metadata": {
    "scrolled": true
   },
   "outputs": [
    {
     "name": "stdout",
     "output_type": "stream",
     "text": [
      "====================while 문===================\n"
     ]
    }
   ],
   "source": [
    "'''\n",
    "반복문(for, while)\n",
    "\n",
    "\n",
    "a=range(10)\n",
    "print(list(a))\n",
    "\n",
    "a=range(1,11)\n",
    "print(list(a))\n",
    "\n",
    "\n",
    "for i in range(10):\n",
    "    print(i)\n",
    "\n",
    "for x in range(10):\n",
    "    print(\"hello\")\n",
    "\n",
    "for a in range(1,11):\n",
    "    print(a)\n",
    "\n",
    "\n",
    "\n",
    "for i in range(10, 0, -1):\n",
    "    print(i)\n",
    "\n",
    "for r in range(10, 0, -2):\n",
    "    print(r)\n",
    "\n",
    "'''\n",
    "\n",
    "print(\"====================while 문===================\")\n",
    "'''\n",
    "i=1\n",
    "while i<=10:\n",
    "    print(i)\n",
    "    i=i+1\n",
    "\n",
    "i=10\n",
    "while i>=1:\n",
    "    print(i)\n",
    "    i=i-1\n",
    "\n",
    "i=1\n",
    "while True: #True는 무한반복을 의미\n",
    "    print(i)\n",
    "    if i==10:\n",
    "        break\n",
    "    i+=1 #i=i+1과 동일\n",
    "    \n",
    "\n",
    "\n",
    "for i in range(1, 11):\n",
    "    if i%2==0:\n",
    "        continue  #짝수는 continue하여 print(i)를 하지 않고 지나가버림\n",
    "    print(i)\n",
    "\n",
    "\n",
    "\n",
    "for i in range(1, 11):\n",
    "    print(i)\n",
    "    if i>15:  #if문이 참이 될일이 없으니 else문까치 처리하여 11을 출\n",
    "        break\n",
    "else:\n",
    "    print(112)\n",
    "\n",
    "'''\n",
    "'''\n",
    "\n",
    "반복문을 이용한 문제 풀이\n",
    "1) 1부터 N까지 홀수출력하기\n",
    "2) 1부터 N까지 합 구하기\n",
    "3) N의 약수출력하기\n",
    "\n",
    "n=int(input())\n",
    "for i in range(1, n+1):\n",
    "    print(i)\n",
    "\n",
    "\n",
    "\n",
    "n=int(input())\n",
    "for i in range(1, n+1):\n",
    "    if i%2==1:\n",
    "        print(i)\n",
    "\n",
    "n=int(input())\n",
    "sum=0\n",
    "for i in range(1, n+1):\n",
    "    sum=sum+i\n",
    "print(sum)\n",
    "'''\n",
    "\n",
    "\n",
    "n=int(input())\n",
    "for i in range(1, n+1):\n",
    "    if n%i==0:\n",
    "        print(i, end=' ')\n",
    "\n",
    "print(\"============\")        \n",
    "\n",
    "n=int(input())\n",
    "for i in range(1, n+1):\n",
    "    if n%i==0:\n",
    "        print(i)"
   ]
  },
  {
   "cell_type": "markdown",
   "metadata": {},
   "source": [
    "# 중첩반복문"
   ]
  },
  {
   "cell_type": "code",
   "execution_count": null,
   "metadata": {},
   "outputs": [],
   "source": [
    "'''\n",
    "중첩 반복문(2중 for문)\n",
    "\n",
    "for i in range(5):\n",
    "    for j in range(5):\n",
    "        print(j, end=' ')\n",
    "        print()\n",
    "\n",
    "for i in range(5):\n",
    "    for j in range(5):\n",
    "        print(j, end=' ')\n",
    "    print()\n",
    "\n",
    "\n",
    "for i in range(5):\n",
    "    print('i:', i,sep='', end=' ')\n",
    "    for j in range(5):\n",
    "        print('j:', j, sep='',end=' ')\n",
    "    print()\n",
    "'''\n",
    "\n",
    "for i in range(5):\n",
    "    for j in range(5):\n",
    "        print(\"*\", end=' ')\n",
    "    print()\n",
    "\n",
    "print(\"=============================\")\n",
    "\n",
    "for i in range(5):\n",
    "    for j in range(5):\n",
    "        print(\"*\", sep='', end=' ')\n",
    "    print()\n",
    "\n",
    "print(\"=============================\")\n",
    "\n",
    "for i in range(5):\n",
    "    for j in range(i+1):\n",
    "        print(\"*\", end=' ')\n",
    "    print()\n",
    "print(\"=============================\")\n",
    "\n",
    "for i in range(5):\n",
    "    for j in range(5-i):\n",
    "        print(\"*\", end=' ')\n",
    "    print()\n"
   ]
  },
  {
   "cell_type": "code",
   "execution_count": 7,
   "metadata": {},
   "outputs": [
    {
     "name": "stdout",
     "output_type": "stream",
     "text": [
      "색을 영문으로 입력하세요: black\n",
      "잘못된 색입니다.\n"
     ]
    }
   ],
   "source": [
    "signal_color = input(\"색을 영문으로 입력하세요: \")\n",
    "\n",
    "if signal_color == 'blue':\n",
    "    print(\"신호등은 파란색입니다. 건너세요\")\n",
    "elif signal_color == 'red':\n",
    "    print(\"신호등은 빨간색입니다. 기다리세요\")\n",
    "else:\n",
    "    print(\"잘못된 색입니다.\")\n"
   ]
  },
  {
   "cell_type": "code",
   "execution_count": 8,
   "metadata": {},
   "outputs": [
    {
     "name": "stdout",
     "output_type": "stream",
     "text": [
      "색을 영문으로 입력하세요: red\n",
      "신호등은 빨간색입니다. 기다리세요.\n"
     ]
    }
   ],
   "source": [
    "signal_color = input(\"색을 영문으로 입력하세요: \") #색 입력 요청\n",
    "\n",
    "if signal_color == 'blue':  #파란색인 경우\n",
    "    print (\"신호등은 파란색입니다. 건너세요.\")\n",
    "else:\n",
    "    print (\"신호등은 빨간색입니다. 기다리세요.\")   #빨간색인 경"
   ]
  },
  {
   "cell_type": "code",
   "execution_count": 9,
   "metadata": {},
   "outputs": [
    {
     "name": "stdout",
     "output_type": "stream",
     "text": [
      "색을 영문으로 입력하세요: red\n",
      "신호등은 빨간색입니다. 기다리세요.\n"
     ]
    }
   ],
   "source": [
    "signal_color = input('색을 영문으로 입력하세요: ') # 색 입력 요청\n",
    "\n",
    "if signal_color == 'blue':  # 파란색인 경우\n",
    "    print('신호등은 파란색입니다. 건너세요.')\n",
    "\n",
    "    is_pass = input('건널 준비가 되었나요? (yes/no)') # 건널 준비가 되었는지 확인\n",
    "    if is_pass == 'yes':\n",
    "        print('건너겠습니다.!')\n",
    "    else:\n",
    "        print('다음번에 건너겠습니다.')\n",
    "\n",
    "elif signal_color == 'red':\n",
    "    print('신호등은 빨간색입니다. 기다리세요.')\n",
    "else:\n",
    "    print('잘못된 색입니다.')"
   ]
  },
  {
   "cell_type": "code",
   "execution_count": 83,
   "metadata": {},
   "outputs": [
    {
     "name": "stdout",
     "output_type": "stream",
     "text": [
      "a는 3보다 크거나 같고 5보다 작거나 같습니다.\n"
     ]
    }
   ],
   "source": [
    "a = 4\n",
    "if a > 5:\n",
    "    print(\"a는 5보다 큽니다.\")\n",
    "    \n",
    "elif a >= 3 and a <= 5:\n",
    "    print(\"a는 3보다 크거나 같고 5보다 작거나 같습니다.\")\n",
    "    \n",
    "else:\n",
    "    print(\"a는 3보다 작군요\")"
   ]
  },
  {
   "cell_type": "code",
   "execution_count": 89,
   "metadata": {},
   "outputs": [
    {
     "name": "stdout",
     "output_type": "stream",
     "text": [
      "1이네요\n",
      "1이네요\n"
     ]
    }
   ],
   "source": [
    "a = 1\n",
    "\n",
    "print('1이네요' if a == 1 else '1이 아니네요')\n",
    "\n",
    "if a == 1:\n",
    "    print('1이네요')\n",
    "    \n",
    "else:\n",
    "    print('1이 아니네요')"
   ]
  },
  {
   "cell_type": "code",
   "execution_count": 90,
   "metadata": {},
   "outputs": [
    {
     "name": "stdout",
     "output_type": "stream",
     "text": [
      "365\n"
     ]
    }
   ],
   "source": [
    "a == 366\n",
    "\n",
    "print(365 if a == 366 else 365)"
   ]
  },
  {
   "cell_type": "code",
   "execution_count": 1,
   "metadata": {},
   "outputs": [
    {
     "name": "stdout",
     "output_type": "stream",
     "text": [
      "1\n",
      "2\n",
      "3\n",
      "4\n"
     ]
    }
   ],
   "source": [
    "lst = [1, 2, 3, 4]\n",
    "\n",
    "for i in lst:\n",
    "    print(i)"
   ]
  },
  {
   "cell_type": "code",
   "execution_count": 5,
   "metadata": {},
   "outputs": [
    {
     "name": "stdout",
     "output_type": "stream",
     "text": [
      "a 1\n",
      "b 2\n",
      "c 3\n",
      "d 4\n",
      "('a', 1)\n",
      "('b', 2)\n",
      "('c', 3)\n",
      "('d', 4)\n",
      "a\n",
      "b\n",
      "c\n",
      "d\n",
      "1\n",
      "2\n",
      "3\n",
      "4\n"
     ]
    }
   ],
   "source": [
    "dic = {'a':1, 'b':2, 'c':3, 'd':4}\n",
    "\n",
    "for i, j in dic.items():\n",
    "    print(i, j)\n",
    "    \n",
    "for i in dic.items():\n",
    "    print(i)\n",
    "    \n",
    "for i in dic.keys():\n",
    "    print(i)\n",
    "    \n",
    "for i in dic.values():\n",
    "    print(i)"
   ]
  },
  {
   "cell_type": "code",
   "execution_count": 8,
   "metadata": {},
   "outputs": [
    {
     "name": "stdout",
     "output_type": "stream",
     "text": [
      "1 a\n",
      "2 b\n",
      "3 c\n",
      "4 d\n",
      "0 a\n",
      "1 b\n",
      "2 c\n",
      "3 d\n",
      "5 a\n",
      "6 b\n",
      "7 c\n",
      "8 d\n"
     ]
    }
   ],
   "source": [
    "lst = ['a', 'b', 'c', 'd']\n",
    "\n",
    "for i, j in enumerate(lst, 1):\n",
    "    print(i, j)\n",
    "    \n",
    "for i, j in enumerate(lst):\n",
    "    print(i, j)\n",
    "    \n",
    "for i, j in enumerate(lst, 5):\n",
    "    print(i, j)"
   ]
  },
  {
   "cell_type": "code",
   "execution_count": 22,
   "metadata": {},
   "outputs": [
    {
     "name": "stdout",
     "output_type": "stream",
     "text": [
      "1\n",
      "2\n",
      "3\n",
      "4\n"
     ]
    }
   ],
   "source": [
    "for i in range(1, 5):\n",
    "    print(i)"
   ]
  },
  {
   "cell_type": "code",
   "execution_count": 23,
   "metadata": {},
   "outputs": [
    {
     "name": "stdout",
     "output_type": "stream",
     "text": [
      "1\n",
      "2\n",
      "3\n",
      "4\n"
     ]
    }
   ],
   "source": [
    "lst = [1, 2, 3, 4]\n",
    "\n",
    "for i in range(len(lst)):\n",
    "    print(lst[i])"
   ]
  },
  {
   "cell_type": "code",
   "execution_count": 29,
   "metadata": {},
   "outputs": [
    {
     "name": "stdout",
     "output_type": "stream",
     "text": [
      "a\n",
      "c\n",
      "d\n"
     ]
    }
   ],
   "source": [
    "lst = ['a', 'b', 'c', 'd']\n",
    "\n",
    "for i in lst:\n",
    "    if i == 'b':\n",
    "        continue #다음 반복문으로 넘김\n",
    "        print(i)\n",
    "    else:\n",
    "        print(i)"
   ]
  },
  {
   "cell_type": "code",
   "execution_count": 31,
   "metadata": {},
   "outputs": [
    {
     "name": "stdout",
     "output_type": "stream",
     "text": [
      "a\n",
      "b\n"
     ]
    }
   ],
   "source": [
    "lst = ['a', 'b', 'c', 'd']\n",
    "\n",
    "for i in lst:\n",
    "    if i == 'c':\n",
    "        break #종료\n",
    "        print(i)\n",
    "    else:\n",
    "        print(i)"
   ]
  },
  {
   "cell_type": "code",
   "execution_count": 32,
   "metadata": {},
   "outputs": [
    {
     "name": "stdout",
     "output_type": "stream",
     "text": [
      "a\n",
      "b\n",
      "c\n",
      "d\n"
     ]
    }
   ],
   "source": [
    "lst = ['a', 'b', 'c', 'd']\n",
    "\n",
    "for i in range(len(lst)):\n",
    "    print(lst[i])"
   ]
  },
  {
   "cell_type": "code",
   "execution_count": 38,
   "metadata": {},
   "outputs": [
    {
     "name": "stdout",
     "output_type": "stream",
     "text": [
      "a\n",
      "나머지가 0이 아니네\n",
      "c\n",
      "나머지가 0이 아니네\n"
     ]
    }
   ],
   "source": [
    "lst = ['a', 'b', 'c', 'd']\n",
    "\n",
    "for i in range(len(lst)):\n",
    "    if i % 2 == 0:\n",
    "        print(lst[i])\n",
    "    else:\n",
    "        print('나머지가 0이 아니네')"
   ]
  },
  {
   "cell_type": "code",
   "execution_count": 40,
   "metadata": {},
   "outputs": [
    {
     "name": "stdout",
     "output_type": "stream",
     "text": [
      "a\n",
      "b\n",
      "반복문을 멈춰\n"
     ]
    }
   ],
   "source": [
    "lst = ['a', 'b', 'c', 'd']\n",
    "\n",
    "for i in lst:\n",
    "    if i == 'c':\n",
    "        print('반복문을 멈춰')\n",
    "        break\n",
    "    else:\n",
    "        print(i)"
   ]
  },
  {
   "cell_type": "code",
   "execution_count": 43,
   "metadata": {},
   "outputs": [
    {
     "name": "stdout",
     "output_type": "stream",
     "text": [
      "[2, 4]\n"
     ]
    }
   ],
   "source": [
    "lst = [x for x in [1, 2, 3, 4] if x % 2 == 0]\n",
    "print(lst)"
   ]
  },
  {
   "cell_type": "markdown",
   "metadata": {},
   "source": [
    "# 제곱의 수 구하기"
   ]
  },
  {
   "cell_type": "code",
   "execution_count": 6,
   "metadata": {},
   "outputs": [
    {
     "name": "stdout",
     "output_type": "stream",
     "text": [
      "0 0\n",
      "1 1\n",
      "2 32\n",
      "3 243\n",
      "4 1024\n"
     ]
    }
   ],
   "source": [
    "for x in range(5):\n",
    "    print(x,x**5)"
   ]
  },
  {
   "cell_type": "markdown",
   "metadata": {},
   "source": [
    "# 파이썬으로 디렉터리 경로 내의 특정 확장자 파일 검색하기"
   ]
  },
  {
   "cell_type": "code",
   "execution_count": 3,
   "metadata": {},
   "outputs": [],
   "source": [
    "import os\n",
    "pwd = \"f:\\test\"\n",
    "for path, dirs, files in os.walk(pwd):\n",
    "    for file in files:\n",
    "        if os.path.splitext(file)[1].lower() == '.txt':\n",
    "            print ('txt 파일: ' + file)\n"
   ]
  },
  {
   "cell_type": "code",
   "execution_count": 2,
   "metadata": {},
   "outputs": [],
   "source": [
    "import os\n",
    "pwd = \"f:\\test\"\n",
    "for path, dirs, files in os.walk(pwd):\n",
    "    for file in files:\n",
    "        if os.path.splitext(file)[1].lower() == '.txt':\n",
    "            print ('txt 파일: ' + file)\n",
    "            print (string.find(\"결과\"))"
   ]
  },
  {
   "cell_type": "code",
   "execution_count": 56,
   "metadata": {},
   "outputs": [
    {
     "name": "stdout",
     "output_type": "stream",
     "text": [
      "1\n",
      "2\n",
      "3\n",
      "4\n",
      "5\n",
      "6\n",
      "7\n",
      "8\n",
      "9\n"
     ]
    }
   ],
   "source": [
    "a = 1\n",
    "\n",
    "while a < 10:\n",
    "    print(a)\n",
    "    a = a + 1"
   ]
  },
  {
   "cell_type": "code",
   "execution_count": 89,
   "metadata": {},
   "outputs": [
    {
     "name": "stdout",
     "output_type": "stream",
     "text": [
      "['Thu,', '11', 'Jun', '2020', '16:32:00', '+0900']\n",
      "2020-06-11 16:32:00\n"
     ]
    }
   ],
   "source": [
    "dic = {'Jun':'06'}\n",
    "s = \"Thu, 11 Jun 2020 16:32:00 +0900\"\n",
    "\n",
    "#s를 'YYYY-MM-DD hh:mm:ss' 로 출력\n",
    "\n",
    "print(s.split(' '))\n",
    "\n",
    "ss = s.split(' ')\n",
    "print(ss[3]+\"-\"+dic['Jun']+\"-\"+ss[1],ss[4])"
   ]
  },
  {
   "cell_type": "code",
   "execution_count": 1,
   "metadata": {},
   "outputs": [
    {
     "name": "stdout",
     "output_type": "stream",
     "text": [
      "['Thu,', '11', 'Jun', '2020', '16:32:00', '+0900']\n",
      "2020-06-11 16:32:00\n",
      "<class 'str'>\n",
      "<class 'datetime.datetime'>\n",
      "True\n",
      "2020-06-11 16:32:00\n",
      "2020-06-12 18:17:53.185169\n",
      "2020-06-12 18:17:53.185169\n"
     ]
    }
   ],
   "source": [
    "dic = {'Jun':'06'}\n",
    "s = \"Thu, 11 Jun 2020 16:32:00 +0900\"\n",
    "\n",
    "s = s.split(' ')\n",
    "print(s)\n",
    "s1 = s[3] + '-' + dic['Jun'] + '-' + s[1] + ' ' + s[4]\n",
    "print(s1)\n",
    "\n",
    "from datetime import datetime\n",
    "logdate = datetime.strptime(s1, '%Y-%m-%d %H:%M:%S')\n",
    "today = datetime.today()\n",
    "\n",
    "print(type(s1))\n",
    "print(type(logdate))\n",
    "print(today > logdate)\n",
    "print(logdate)\n",
    "print(today)\n",
    "print(datetime.today())"
   ]
  },
  {
   "cell_type": "code",
   "execution_count": 34,
   "metadata": {},
   "outputs": [
    {
     "name": "stdout",
     "output_type": "stream",
     "text": [
      "<class 'datetime.datetime'>\n",
      "2020-06-12 18:45:48.679924 4\n",
      "\n",
      "2020\n",
      "6\n",
      "12\n",
      "18\n",
      "45\n",
      "2019\n",
      "5\n",
      "\n",
      "2020\n",
      "06\n",
      "Jun\n",
      "12\n",
      "18\n",
      "45\n",
      "<class 'str'>\n",
      "\n",
      "2020-06-05 18:45:48.679924\n",
      "2020-06-11 18:45:48.679924\n",
      "2020-06-12 17:45:48.679924\n",
      "2020-06-12 18:44:48.679924\n",
      "2020-06-14 18:45:48.679924\n"
     ]
    }
   ],
   "source": [
    "from datetime import datetime\n",
    "\n",
    "print(type(datetime.today()))\n",
    "\n",
    "dt = datetime.today()\n",
    "dic = {0:'월', 1:'화', 2:'수', 3:'목', 4:'금', 5:'토', 6:'일'}\n",
    "dic[dt.weekday()]\n",
    "\n",
    "print(dt.date(), dt.time(), dt.weekday())\n",
    "print()\n",
    "\n",
    "print(dt.year)\n",
    "print(dt.month)\n",
    "print(dt.day)\n",
    "print(dt.hour)\n",
    "print(dt.minute)\n",
    "print(dt.year - 1)\n",
    "print(dt.month - 1)\n",
    "print()\n",
    "\n",
    "print(dt.strftime('%Y'))\n",
    "print(dt.strftime('%m'))\n",
    "print(dt.strftime('%b'))\n",
    "print(dt.strftime('%d'))\n",
    "print(dt.strftime('%H'))\n",
    "print(dt.strftime('%M'))\n",
    "print(type(dt.strftime('%S')))\n",
    "print()\n",
    "\n",
    "from datetime import timedelta\n",
    "print(dt - timedelta(weeks=1))\n",
    "print(dt - timedelta(days=1))\n",
    "print(dt - timedelta(hours=1))\n",
    "print(dt - timedelta(minutes=1))\n",
    "print(dt - timedelta(days=-2))"
   ]
  },
  {
   "cell_type": "code",
   "execution_count": 1,
   "metadata": {},
   "outputs": [],
   "source": [
    "#알람\n",
    "import winsound as ws\n",
    "freq = 2000    # range : 37 ~ 32767\n",
    "dur = 1000     # ms\n",
    "ws.Beep(freq, dur) # winsound.Beep(frequency, duration)"
   ]
  },
  {
   "cell_type": "code",
   "execution_count": 8,
   "metadata": {},
   "outputs": [
    {
     "name": "stdout",
     "output_type": "stream",
     "text": [
      "어제일자: 2020-08-15 18:44:03.654585\n",
      "현재시각: 2020-08-16 18:44:03.654585\n",
      "------------------------------\n",
      "{'lastBuildDate': 'Sun, 16 Aug 2020 18:43:38 +0900', 'total': 211976, 'start': 1, 'display': 10, 'items': [{'title': '[인사] 부산지방경찰청 外', 'originallink': 'http://www.busan.com/view/busan/view.php?code=2020081617395141182', 'link': 'https://news.naver.com/main/read.nhn?mode=LSD&mid=sec&sid1=102&oid=082&aid=0001022318', 'description': '◇경남지방경찰청 △홍보담당관 심태환 △청문감사담당관 정창영 △<b>정보</b>과장 김영호 △<b>보안</b>과장 김상구 △생활안전과장 공용기 △수사과장 오동욱 △형사과장 김정완 △과학수사과장 김오녕 △창원서부서장 이태규... ', 'pubDate': 'Sun, 16 Aug 2020 17:46:00 +0900'}, {'title': \"'정당한 통행료' vs '플랫폼 갑질'... 30% 앱장터 수수료 논란 재점화\", 'originallink': 'https://hankookilbo.com/News/Read/A2020081610580005489?did=NA', 'link': 'https://news.naver.com/main/read.nhn?mode=LSD&mid=sec&sid1=105&oid=469&aid=0000525993', 'description': \"수수료가 없다면 순이익을 거뒀을 다수의 앱이 수수료로 인해 파산하고 있다&quot;며 &quot;결과적으로 애플의 '통행세'는 디지털 경제 발전을 가로막고 소비자 개인<b>정보 보안</b>을 위협하는 행위&quot;라고 비판하고 나선 바 있다.\", 'pubDate': 'Sun, 16 Aug 2020 17:41:00 +0900'}, {'title': '해킹방어대회 코드게이트…사상최초 온라인 세계대회', 'originallink': 'http://news.mk.co.kr/newsRead.php?no=843848&year=2020', 'link': 'https://news.naver.com/main/read.nhn?mode=LSD&mid=sec&sid1=105&oid=009&aid=0004636433', 'description': '국내 최고 <b>정보보안</b> 대학 동아리의 자존심을 건 승부가 펼쳐지는 대학생부에서는 고려대 3팀, 포항공대 2팀, 아주대 가톨릭대 경기대 세종대 충남대 각각 1팀 등 총 10개팀이 맞붙는다. 전 세계 화이트해커 꿈나무가... ', 'pubDate': 'Sun, 16 Aug 2020 17:41:00 +0900'}, {'title': '[인사]고용노동부 외', 'originallink': 'https://hankookilbo.com/News/Read/A2020081617210002188?did=NA', 'link': 'https://news.naver.com/main/read.nhn?mode=LSD&mid=sec&sid1=102&oid=469&aid=0000525991', 'description': '손부식 △<b>정보</b>과장 오완석 △<b>보안</b>과장 정상진 △112종합상황실장 이성균 △여성청소년과장 박봉수 △형사과장 김봉식 △중부서장 양시창 △남부서장 강영우 △수성서장 김대현 △달성서장 안정민 △강북서장 배기명', 'pubDate': 'Sun, 16 Aug 2020 17:37:00 +0900'}, {'title': '강원경찰청 총경급 21명 인사 단행', 'originallink': 'http://www.kado.net/news/articleView.html?idxno=1035731', 'link': 'http://www.kado.net/news/articleView.html?idxno=1035731', 'description': '홍보담당관 김승혁,<b>정보</b>화과장 김택수,<b>보안</b>과장 이은실,생활안전과장 김형기,112상황실장 백두용,수사과장 최승호,형사과장 김진환 발령 경찰청은 강원경찰청 총경급 총 21명에 대한 전보·승진 인사를 오는 18일자로... ', 'pubDate': 'Sun, 16 Aug 2020 15:14:00 +0900'}, {'title': '대구지방경찰청 인사', 'originallink': 'http://www.idaegu.com/newsView/idg202008160001', 'link': 'http://www.idaegu.com/newsView/idg202008160001', 'description': '◆대구지방경찰청 〈총경 전보〉 △홍보담당관 유오재 △경무과장 박만우 △<b>정보</b>화장비과장 손부식 △<b>정보</b>과장 오완석 △ <b>보안</b>과장 정상진 △112종합상황실장 이성균 △여성청소년과장 박봉수 △형사과장 김봉식... ', 'pubDate': 'Sun, 16 Aug 2020 14:22:00 +0900'}, {'title': '케어라풋, 몸캠피싱 유포협박·영상 변형삭제 기술 통해 해결', 'originallink': 'http://www.e2news.com/news/articleView.html?idxno=225190', 'link': 'http://www.e2news.com/news/articleView.html?idxno=225190', 'description': '날이 갈수록 디지털기기가 발전하고 있는 가운데, 개인<b>정보 보안</b>에 중대한 위협을 가하는 범죄들이 기승을 부리고 있다. 이러한 범죄들 대부분은 부정적인 방법으로 금전 갈취를 목적으로 이뤄진다. 대표적인 범죄... ', 'pubDate': 'Sun, 16 Aug 2020 13:00:00 +0900'}, {'title': '동국대학교 전산원 <b>정보</b>보호학 전공 신입생 모집', 'originallink': 'http://www.kihoilbo.co.kr/news/articleView.html?idxno=881863', 'link': 'http://www.kihoilbo.co.kr/news/articleView.html?idxno=881863', 'description': '<b>정보</b>보호학전공 송양의 교수는 &quot;해킹<b>보안</b>전문가인 화이트 해커를 양성하기 위해 웹서버<b>보안</b>, 운영체제<b>보안</b>, 포렌식, 관제에 필요한 침입차단시스템 등의 실무형 수업을 비롯하여 <b>정보보안</b>전문가 양성을 위해 다양한... ', 'pubDate': 'Sun, 16 Aug 2020 12:18:00 +0900'}, {'title': '[인사] 대전시교육청, 경남경찰청, 부산경찰청', 'originallink': 'http://www.businesspost.co.kr/BP?command=article_view&num=192046', 'link': 'http://www.businesspost.co.kr/BP?command=article_view&num=192046', 'description': '정창영 △<b>정보</b>과장 김영호 △<b>보안</b>과장 김상구 △생활안전과장 공용기 △수사과장 오동욱 △형사과장 김정완 △과학수사과장 김오녕 △창원서부서장 이태규 △마산동부서장 유병조 △진주서장 서성목 △진해서장 김병수... ', 'pubDate': 'Sun, 16 Aug 2020 11:42:00 +0900'}, {'title': \"삼성도 분실폰 재판매 '원격'으로 막는다…개인<b>정보</b> 유출도 원천차단\", 'originallink': 'https://www.news1.kr/articles/?4027143', 'link': 'https://news.naver.com/main/read.nhn?mode=LSD&mid=sec&sid1=105&oid=421&aid=0004816187', 'description': '노 사장은 지난 5일 진행한 삼성전자 언팩에서도 사생활 보호 등 이용자 <b>정보 보안</b>의 중요성을 강조했다. 노 사장은 &quot;사생활 보호를 위해서는 하드웨어와 소프트웨어를 신뢰해야 한다&quot;며 &quot;신뢰를 위해서는 <b>보안</b>(security)이... ', 'pubDate': 'Sun, 16 Aug 2020 07:54:00 +0900'}]}\n",
      "\n"
     ]
    },
    {
     "ename": "KeyError",
     "evalue": "'Aug'",
     "output_type": "error",
     "traceback": [
      "\u001b[1;31m---------------------------------------------------------------------------\u001b[0m",
      "\u001b[1;31mKeyError\u001b[0m                                  Traceback (most recent call last)",
      "\u001b[1;32m<ipython-input-8-2dba2f929428>\u001b[0m in \u001b[0;36m<module>\u001b[1;34m\u001b[0m\n\u001b[0;32m     29\u001b[0m     \u001b[0ms\u001b[0m \u001b[1;33m=\u001b[0m \u001b[0mi\u001b[0m\u001b[1;33m[\u001b[0m\u001b[1;34m'pubDate'\u001b[0m\u001b[1;33m]\u001b[0m\u001b[1;33m\u001b[0m\u001b[1;33m\u001b[0m\u001b[0m\n\u001b[0;32m     30\u001b[0m     \u001b[0ms\u001b[0m \u001b[1;33m=\u001b[0m \u001b[0ms\u001b[0m\u001b[1;33m.\u001b[0m\u001b[0msplit\u001b[0m\u001b[1;33m(\u001b[0m\u001b[1;34m' '\u001b[0m\u001b[1;33m)\u001b[0m\u001b[1;33m\u001b[0m\u001b[1;33m\u001b[0m\u001b[0m\n\u001b[1;32m---> 31\u001b[1;33m     \u001b[0ms\u001b[0m \u001b[1;33m=\u001b[0m \u001b[0ms\u001b[0m\u001b[1;33m[\u001b[0m\u001b[1;36m3\u001b[0m\u001b[1;33m]\u001b[0m \u001b[1;33m+\u001b[0m \u001b[1;34m'-'\u001b[0m \u001b[1;33m+\u001b[0m \u001b[0mdic\u001b[0m\u001b[1;33m[\u001b[0m\u001b[0ms\u001b[0m\u001b[1;33m[\u001b[0m\u001b[1;36m2\u001b[0m\u001b[1;33m]\u001b[0m\u001b[1;33m]\u001b[0m \u001b[1;33m+\u001b[0m \u001b[1;34m'-'\u001b[0m \u001b[1;33m+\u001b[0m \u001b[0ms\u001b[0m\u001b[1;33m[\u001b[0m\u001b[1;36m1\u001b[0m\u001b[1;33m]\u001b[0m \u001b[1;33m+\u001b[0m \u001b[1;34m' '\u001b[0m \u001b[1;33m+\u001b[0m \u001b[0ms\u001b[0m\u001b[1;33m[\u001b[0m\u001b[1;36m4\u001b[0m\u001b[1;33m]\u001b[0m\u001b[1;33m\u001b[0m\u001b[1;33m\u001b[0m\u001b[0m\n\u001b[0m\u001b[0;32m     32\u001b[0m     \u001b[1;31m#s = s[3] + '-' + s[2] + '-' + s[1] + ' ' + s[4]\u001b[0m\u001b[1;33m\u001b[0m\u001b[1;33m\u001b[0m\u001b[1;33m\u001b[0m\u001b[0m\n\u001b[0;32m     33\u001b[0m     \u001b[1;31m#s = s.replace('Jun', '06')\u001b[0m\u001b[1;33m\u001b[0m\u001b[1;33m\u001b[0m\u001b[1;33m\u001b[0m\u001b[0m\n",
      "\u001b[1;31mKeyError\u001b[0m: 'Aug'"
     ]
    }
   ],
   "source": [
    "import requests as req\n",
    "import json\n",
    "from datetime import datetime\n",
    "from datetime import timedelta\n",
    "\n",
    "search = \"정보보안\"\n",
    "yesterday = datetime.today() - timedelta(days=1) # 어제 일자 계산, 1이면 어제\n",
    "print(\"어제일자:\", yesterday)\n",
    "print(\"현재시각:\", datetime.today())\n",
    "print(\"-\"*30)\n",
    "\n",
    "# 네이버 API 인증\n",
    "\n",
    "url = 'https://openapi.naver.com/v1/search/'+'news'+'?query='+search+'&display=10'\n",
    "res = req.get(url,\n",
    "              headers={'X-Naver-Client-Id': 'ys1o3hhvs_IL8YTasnby',\n",
    "                       'X-Naver-Client-Secret': 'wYUFA7vyAs'})\n",
    "\n",
    "data = json.loads(res.text) # class 'requests.models.Response -> 딕셔너리 형식으로 변경\n",
    "\n",
    "preday = datetime.today() - timedelta(hours=1)\n",
    "\n",
    "dic = {'Jun':'06', 'May':'05', 'Apr':'04'}\n",
    "\n",
    "print(data)\n",
    "print()\n",
    "\n",
    "for i in data['items']:\n",
    "    s = i['pubDate']\n",
    "    s = s.split(' ')\n",
    "    s = s[3] + '-' + dic[s[2]] + '-' + s[1] + ' ' + s[4]\n",
    "    #s = s[3] + '-' + s[2] + '-' + s[1] + ' ' + s[4]\n",
    "    #s = s.replace('Jun', '06')\n",
    "    s = datetime.strptime(s, '%Y-%m-%d %H:%M:%S')\n",
    "    \n",
    "    if preday < s:\n",
    "        print('''\n",
    "        제      목 : {0},\n",
    "        네이버링크 : {1},\n",
    "        디스크립션 : {2},\n",
    "        업로드날따 : {3},\n",
    "        ''').format(i['title'], i['link'], i['description'],  i[pubDate])\n",
    "    \n",
    "#a = 1\n",
    "#b = 'apple'\n",
    "#print(type(a))\n",
    "#print(type(b))\n",
    "    "
   ]
  },
  {
   "cell_type": "code",
   "execution_count": 117,
   "metadata": {},
   "outputs": [
    {
     "ename": "SyntaxError",
     "evalue": "invalid syntax (<ipython-input-117-9ca90348e6eb>, line 3)",
     "output_type": "error",
     "traceback": [
      "\u001b[1;36m  File \u001b[1;32m\"<ipython-input-117-9ca90348e6eb>\"\u001b[1;36m, line \u001b[1;32m3\u001b[0m\n\u001b[1;33m    headers={'X-Naver-Client-Id': 'X-Naver-Client-Id': 'LL_M25HsVddmYMhIpnDJ',\u001b[0m\n\u001b[1;37m                                                     ^\u001b[0m\n\u001b[1;31mSyntaxError\u001b[0m\u001b[1;31m:\u001b[0m invalid syntax\n"
     ]
    }
   ],
   "source": [
    "url = 'https://openapi.naver.com/v1/search/'+'news'+'?query='+search+'&display=10'\n",
    "res = req.get(url,\n",
    "              headers={'X-Naver-Client-Id': 'X-Naver-Client-Id': 'LL_M25HsVddmYMhIpnDJ',\n",
    "                       'X-Naver-Client-Secret': 'X-Naver-Client-Secret': '21mJnrLLL2'})\n",
    "\n",
    "data = json.loads(res.text) # class 'requests.models.Response -> 딕셔너리 형식으로 변경\n",
    "\n",
    "for i in data['items']:\n",
    "    edit1 = i['pubDate'].replace(' +0900','')\n",
    "    edit2 = edit1.split(' ',4)\n",
    "    edit3 = edit2[3] + '-' +edit2[2] + '-' +edit2[1] + ' ' +edit2[4]\n",
    "    edit4 = datetime.strptime(edit3, '%Y-%b-%d %H:%M:%S')\n",
    "    \n",
    "    if yesterday < edit4:\n",
    "        print('''\n",
    "        제      목 : {0},\n",
    "        네이버링크 : {1}, \n",
    "        디스크립션 : {2},\n",
    "        업로드날짜 : {3},\n",
    "        '''.format(i['title'],i['link'],i['description'],i['pubDate']))"
   ]
  },
  {
   "cell_type": "code",
   "execution_count": null,
   "metadata": {},
   "outputs": [],
   "source": []
  },
  {
   "cell_type": "code",
   "execution_count": null,
   "metadata": {},
   "outputs": [],
   "source": []
  }
 ],
 "metadata": {
  "kernelspec": {
   "display_name": "Python 3",
   "language": "python",
   "name": "python3"
  },
  "language_info": {
   "codemirror_mode": {
    "name": "ipython",
    "version": 3
   },
   "file_extension": ".py",
   "mimetype": "text/x-python",
   "name": "python",
   "nbconvert_exporter": "python",
   "pygments_lexer": "ipython3",
   "version": "3.8.3"
  }
 },
 "nbformat": 4,
 "nbformat_minor": 4
}
