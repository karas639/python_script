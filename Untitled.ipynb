{
 "cells": [
  {
   "cell_type": "code",
   "execution_count": null,
   "metadata": {},
   "outputs": [],
   "source": [
    "# 네이버 검색어 뉴스 크롤링"
   ]
  },
  {
   "cell_type": "code",
   "execution_count": null,
   "metadata": {
    "tags": []
   },
   "outputs": [],
   "source": [
    "import os\n",
    "import sys\n",
    "from urllib.parse import urlparse\n",
    "import requests as req\n",
    "search = \"정보보안\"\n",
    "url = 'https://openapi.naver.com/v1/search/'+'news'+'?query='+search+'&display=3'\n",
    "res = req.get(urlparse(url).geturl(),\n",
    "headers={'X-Naver-Client-Id': 'ys1o3hhvs_IL8YTasnby',\n",
    "'X-Naver-Client-Secret': 'wYUFA7vyAs'})\n",
    "print(res.status_code)\n",
    "print(res.text)"
   ]
  },
  {
   "cell_type": "code",
   "execution_count": 16,
   "metadata": {
    "tags": []
   },
   "outputs": [],
   "source": [
    "# 티스토리 인증 코드 발급 (url 요청)\n",
    "import urllib.parse\n",
    "import urllib.request\n",
    "from urllib.parse import urlparse\n",
    "import requests\n",
    "\n",
    "oauth_url = 'https://www.tistory.com/oauth/authorize'\n",
    "login_url = 'https://www.tistory.com/auth/login'\n",
    "callback_url = 'https://kkamagistory.tistory.com'\n",
    "\n",
    "req_params = {\n",
    "    'client_id': 'a1f11d9eb54d53fcdb19da6026fa0fa7',\n",
    "    'redirect_uri': callback_url,\n",
    "    'response_type': 'code'}\n",
    "\n",
    "login_info = {'loginId': 'karas639@gmail.com',\n",
    "            'password': 'dwkimsec135@$^',\n",
    "            'redirectUrI': callback_url}\n",
    "\n",
    "res = s.post(login_url, data=login_info)\n",
    "\n",
    "with requests.session() as s:\n",
    "    req = s.get(oauth_url, params = req_params)\n",
    "\n"
   ]
  },
  {
   "cell_type": "code",
   "execution_count": 18,
   "metadata": {},
   "outputs": [],
   "source": [
    "import requests\n",
    "\n",
    "def get_access_token():\n",
    "    global a\n",
    "    tistory_url = 'https://www.tistory.com'\n",
    "    access_token = None\n",
    "\n",
    "    login_url = '{}/auth/login'.format(tistory_url)\n",
    "    login_data = {\n",
    "        'loginId':'karas639@gmail.com',\n",
    "        'password':'dwkimsec135@$^',\n",
    "        'redirectUrI':'https://www.tistory.com/oauth/authorize?client_id=a1f11d9eb54d53fcdb19da6026fa0fa7&redirect_uri=https://kkamagistory.tistory.com&response_type=token'\n",
    "    }\n",
    "    a = requests.post(login_url, login_data)\n",
    "    return a.url"
   ]
  },
  {
   "cell_type": "code",
   "execution_count": null,
   "metadata": {},
   "outputs": [],
   "source": []
  }
 ],
 "metadata": {
  "kernelspec": {
   "display_name": "Python 3",
   "language": "python",
   "name": "python3"
  },
  "language_info": {
   "codemirror_mode": {
    "name": "ipython",
    "version": 3
   },
   "file_extension": ".py",
   "mimetype": "text/x-python",
   "name": "python",
   "nbconvert_exporter": "python",
   "pygments_lexer": "ipython3",
   "version": "3.7.6"
  }
 },
 "nbformat": 4,
 "nbformat_minor": 4
}