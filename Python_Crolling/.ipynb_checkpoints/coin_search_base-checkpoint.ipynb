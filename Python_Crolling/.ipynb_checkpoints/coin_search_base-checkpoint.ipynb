{
 "cells": [
  {
   "cell_type": "markdown",
   "metadata": {},
   "source": [
    "### 이더리움 계좌 검색"
   ]
  },
  {
   "cell_type": "markdown",
   "metadata": {},
   "source": [
    "### 모듈\n",
    "- requests\n",
    "\n",
    "- BeautifulSoup\n",
    "\n",
    "- urlopen"
   ]
  },
  {
   "cell_type": "markdown",
   "metadata": {},
   "source": [
    "#### data_proto.py"
   ]
  },
  {
   "cell_type": "code",
   "execution_count": 2,
   "metadata": {},
   "outputs": [
    {
     "name": "stdout",
     "output_type": "stream",
     "text": [
      "Search by Address : 0xaAca4C11aB69332C7fD5022565499721173d4B64\n",
      "https://etherscan.io/address/0xaaca4c11ab69332c7fd5022565499721173d4b64\n",
      "----------------------------------------------------------------------\n",
      "<Response [200]>\n",
      "https://etherscan.io/address/0xaaca4c11ab69332c7fd5022565499721173d4b64\n",
      "----------------------------------------------------------------------\n",
      "https://etherscan.io/address/0xaaca4c11ab69332c7fd5022565499721173d4b64\n",
      "----------------------------------------------------------------------\n",
      "[<span class=\"hash-tag text-truncate\" data-placement=\"bottom\" data-toggle=\"tooltip\" title=\"0xaaca4c11ab69332c7fd5022565499721173d4b64\">0xaaca4c11ab69332c7fd5022565499721173d4b64</span>, <a class=\"hash-tag text-truncate\" data-placement=\"bottom\" data-toggle=\"tooltip\" href=\"/address/0x0c59f053cb8ba59b76c359f4b3ba3135b24690b4\" title=\"0x0c59f053cb8ba59b76c359f4b3ba3135b24690b4\">0x0c59f053cb8ba59b76c359f4b3ba3135b24690b4</a>, <span class=\"hash-tag text-truncate\" data-placement=\"bottom\" data-toggle=\"tooltip\" title=\"0xaaca4c11ab69332c7fd5022565499721173d4b64\">0xaaca4c11ab69332c7fd5022565499721173d4b64</span>, <a class=\"hash-tag text-truncate\" data-boundary=\"viewport\" data-html=\"true\" data-placement=\"bottom\" data-toggle=\"tooltip\" href=\"/address/0x7a250d5630b4cf539739df2c5dacb4c659f2488d\" title=\"Uniswap V2: Router 2\n",
      "(0x7a250d5630b4cf539739df2c5dacb4c659f2488d)\">Uniswap V2: Router 2</a>, <span class=\"hash-tag text-truncate\" data-placement=\"bottom\" data-toggle=\"tooltip\" title=\"0xaaca4c11ab69332c7fd5022565499721173d4b64\">0xaaca4c11ab69332c7fd5022565499721173d4b64</span>, <a class=\"hash-tag text-truncate\" data-placement=\"bottom\" data-toggle=\"tooltip\" href=\"/address/0x26a41a77d89dfbc819efa410caf9beb3d760c142\" title=\"0x26a41a77d89dfbc819efa410caf9beb3d760c142\">0x26a41a77d89dfbc819efa410caf9beb3d760c142</a>, <span class=\"hash-tag text-truncate\" data-placement=\"bottom\" data-toggle=\"tooltip\" title=\"0xaaca4c11ab69332c7fd5022565499721173d4b64\">0xaaca4c11ab69332c7fd5022565499721173d4b64</span>, <a class=\"hash-tag text-truncate\" data-boundary=\"viewport\" data-html=\"true\" data-placement=\"bottom\" data-toggle=\"tooltip\" href=\"/address/0x7a250d5630b4cf539739df2c5dacb4c659f2488d\" title=\"Uniswap V2: Router 2\n",
      "(0x7a250d5630b4cf539739df2c5dacb4c659f2488d)\">Uniswap V2: Router 2</a>, <span class=\"hash-tag text-truncate\" data-placement=\"bottom\" data-toggle=\"tooltip\" title=\"0xaaca4c11ab69332c7fd5022565499721173d4b64\">0xaaca4c11ab69332c7fd5022565499721173d4b64</span>, <a class=\"hash-tag text-truncate\" data-placement=\"bottom\" data-toggle=\"tooltip\" href=\"/address/0x0c59f053cb8ba59b76c359f4b3ba3135b24690b4\" title=\"0x0c59f053cb8ba59b76c359f4b3ba3135b24690b4\">0x0c59f053cb8ba59b76c359f4b3ba3135b24690b4</a>, <span class=\"hash-tag text-truncate\" data-placement=\"bottom\" data-toggle=\"tooltip\" title=\"0xaaca4c11ab69332c7fd5022565499721173d4b64\">0xaaca4c11ab69332c7fd5022565499721173d4b64</span>, <a class=\"hash-tag text-truncate\" data-boundary=\"viewport\" data-html=\"true\" data-placement=\"bottom\" data-toggle=\"tooltip\" href=\"/address/0x7a250d5630b4cf539739df2c5dacb4c659f2488d\" title=\"Uniswap V2: Router 2\n",
      "(0x7a250d5630b4cf539739df2c5dacb4c659f2488d)\">Uniswap V2: Router 2</a>, <span class=\"hash-tag text-truncate\" data-placement=\"bottom\" data-toggle=\"tooltip\" title=\"0xaaca4c11ab69332c7fd5022565499721173d4b64\">0xaaca4c11ab69332c7fd5022565499721173d4b64</span>, <a class=\"hash-tag text-truncate\" data-placement=\"bottom\" data-toggle=\"tooltip\" href=\"/address/0x26a41a77d89dfbc819efa410caf9beb3d760c142\" title=\"0x26a41a77d89dfbc819efa410caf9beb3d760c142\">0x26a41a77d89dfbc819efa410caf9beb3d760c142</a>, <a class=\"hash-tag text-truncate\" data-placement=\"bottom\" data-toggle=\"tooltip\" href=\"/address/0xc6001412b98d9237a1a4e07a9004542c52a5ee06\" title=\"0xc6001412b98d9237a1a4e07a9004542c52a5ee06\">0xc6001412b98d9237a1a4e07a9004542c52a5ee06</a>, <span class=\"hash-tag text-truncate\" data-placement=\"bottom\" data-toggle=\"tooltip\" title=\"0xaaca4c11ab69332c7fd5022565499721173d4b64\">0xaaca4c11ab69332c7fd5022565499721173d4b64</span>, <span class=\"hash-tag text-truncate\" data-placement=\"bottom\" data-toggle=\"tooltip\" title=\"0xaaca4c11ab69332c7fd5022565499721173d4b64\">0xaaca4c11ab69332c7fd5022565499721173d4b64</span>, <a class=\"hash-tag text-truncate\" data-placement=\"bottom\" data-toggle=\"tooltip\" href=\"/address/0x0c59f053cb8ba59b76c359f4b3ba3135b24690b4\" title=\"0x0c59f053cb8ba59b76c359f4b3ba3135b24690b4\">0x0c59f053cb8ba59b76c359f4b3ba3135b24690b4</a>, <span class=\"hash-tag text-truncate\" data-placement=\"bottom\" data-toggle=\"tooltip\" title=\"0xaaca4c11ab69332c7fd5022565499721173d4b64\">0xaaca4c11ab69332c7fd5022565499721173d4b64</span>, <a class=\"hash-tag text-truncate\" data-boundary=\"viewport\" data-html=\"true\" data-placement=\"bottom\" data-toggle=\"tooltip\" href=\"/address/0x7a250d5630b4cf539739df2c5dacb4c659f2488d\" title=\"Uniswap V2: Router 2\n",
      "(0x7a250d5630b4cf539739df2c5dacb4c659f2488d)\">Uniswap V2: Router 2</a>, <span class=\"hash-tag text-truncate\" data-placement=\"bottom\" data-toggle=\"tooltip\" title=\"0xaaca4c11ab69332c7fd5022565499721173d4b64\">0xaaca4c11ab69332c7fd5022565499721173d4b64</span>, <a class=\"hash-tag text-truncate\" data-placement=\"bottom\" data-toggle=\"tooltip\" href=\"/address/0x26a41a77d89dfbc819efa410caf9beb3d760c142\" title=\"0x26a41a77d89dfbc819efa410caf9beb3d760c142\">0x26a41a77d89dfbc819efa410caf9beb3d760c142</a>, <a class=\"hash-tag text-truncate\" data-placement=\"bottom\" data-toggle=\"tooltip\" href=\"/address/0x0a03f8c59d342f31f5c934b8d5756ff25583a9d4\" title=\"0x0a03f8c59d342f31f5c934b8d5756ff25583a9d4\">0x0a03f8c59d342f31f5c934b8d5756ff25583a9d4</a>, <span class=\"hash-tag text-truncate\" data-placement=\"bottom\" data-toggle=\"tooltip\" title=\"0xaaca4c11ab69332c7fd5022565499721173d4b64\">0xaaca4c11ab69332c7fd5022565499721173d4b64</span>, <span class=\"hash-tag text-truncate\" data-placement=\"bottom\" data-toggle=\"tooltip\" title=\"0xaaca4c11ab69332c7fd5022565499721173d4b64\">0xaaca4c11ab69332c7fd5022565499721173d4b64</span>, <a class=\"hash-tag text-truncate\" data-placement=\"bottom\" data-toggle=\"tooltip\" href=\"/address/0x0c59f053cb8ba59b76c359f4b3ba3135b24690b4\" title=\"0x0c59f053cb8ba59b76c359f4b3ba3135b24690b4\">0x0c59f053cb8ba59b76c359f4b3ba3135b24690b4</a>, <span class=\"hash-tag text-truncate\" data-placement=\"bottom\" data-toggle=\"tooltip\" title=\"0xaaca4c11ab69332c7fd5022565499721173d4b64\">0xaaca4c11ab69332c7fd5022565499721173d4b64</span>, <a class=\"hash-tag text-truncate\" data-boundary=\"viewport\" data-html=\"true\" data-placement=\"bottom\" data-toggle=\"tooltip\" href=\"/address/0x7a250d5630b4cf539739df2c5dacb4c659f2488d\" title=\"Uniswap V2: Router 2\n",
      "(0x7a250d5630b4cf539739df2c5dacb4c659f2488d)\">Uniswap V2: Router 2</a>, <span class=\"hash-tag text-truncate\" data-placement=\"bottom\" data-toggle=\"tooltip\" title=\"0xaaca4c11ab69332c7fd5022565499721173d4b64\">0xaaca4c11ab69332c7fd5022565499721173d4b64</span>, <a class=\"hash-tag text-truncate\" data-placement=\"bottom\" data-toggle=\"tooltip\" href=\"/address/0x51b4b27a7bd296fd34ca7c469f49d5bcd7fe5137\" title=\"0x51b4b27a7bd296fd34ca7c469f49d5bcd7fe5137\">0x51b4b27a7bd296fd34ca7c469f49d5bcd7fe5137</a>, <span class=\"hash-tag text-truncate\" data-placement=\"bottom\" data-toggle=\"tooltip\" title=\"0xaaca4c11ab69332c7fd5022565499721173d4b64\">0xaaca4c11ab69332c7fd5022565499721173d4b64</span>, <a class=\"hash-tag text-truncate\" data-placement=\"bottom\" data-toggle=\"tooltip\" href=\"/address/0x26a41a77d89dfbc819efa410caf9beb3d760c142\" title=\"0x26a41a77d89dfbc819efa410caf9beb3d760c142\">0x26a41a77d89dfbc819efa410caf9beb3d760c142</a>, <a class=\"hash-tag text-truncate\" data-placement=\"bottom\" data-toggle=\"tooltip\" href=\"/address/0x66801867b2b9ec8f9cbae8b208c823e9ae7e1fd2\" title=\"0x66801867b2b9ec8f9cbae8b208c823e9ae7e1fd2\">0x66801867b2b9ec8f9cbae8b208c823e9ae7e1fd2</a>, <span class=\"hash-tag text-truncate\" data-placement=\"bottom\" data-toggle=\"tooltip\" title=\"0xaaca4c11ab69332c7fd5022565499721173d4b64\">0xaaca4c11ab69332c7fd5022565499721173d4b64</span>, <a class=\"hash-tag text-truncate\" href=\"/tx/0xa734d239a6b3f1b044d748c62c0ab9a92556a54a97410387217bc53dbd3a6313\">0xa734d239a6b3f1b044d748c62c0ab9a92556a54a97410387217bc53dbd3a6313</a>, <a class=\"hash-tag text-truncate\" href=\"/block/11305512\">11305512</a>, <a class=\"hash-tag text-truncate\" data-boundary=\"viewport\" data-html=\"true\" data-placement=\"bottom\" data-toggle=\"tooltip\" href=\"/address/0x7a250d5630b4cf539739df2c5dacb4c659f2488d\" title=\"Uniswap V2: Router 2\n",
      "(0x7a250d5630b4cf539739df2c5dacb4c659f2488d)\">Uniswap V2: Router 2</a>, <span class=\"hash-tag text-truncate\" data-boundary=\"viewport\" data-html=\"true\" data-placement=\"bottom\" data-toggle=\"tooltip\" title=\"0xaaca4c11ab69332c7fd5022565499721173d4b64\">0xaaca4c11ab69332c7fd5022565499721173d4b64</span>, <a class=\"hash-tag text-truncate\" href=\"/tx/0x276617fc7862161344a1ca1859e5eb8deab727f61565a3ac33e471a486bd7311\">0x276617fc7862161344a1ca1859e5eb8deab727f61565a3ac33e471a486bd7311</a>, <a class=\"hash-tag text-truncate\" href=\"/block/11305472\">11305472</a>, <a class=\"hash-tag text-truncate\" data-boundary=\"viewport\" data-html=\"true\" data-placement=\"bottom\" data-toggle=\"tooltip\" href=\"/address/0x7a250d5630b4cf539739df2c5dacb4c659f2488d\" title=\"Uniswap V2: Router 2\n",
      "(0x7a250d5630b4cf539739df2c5dacb4c659f2488d)\">Uniswap V2: Router 2</a>, <span class=\"hash-tag text-truncate\" data-boundary=\"viewport\" data-html=\"true\" data-placement=\"bottom\" data-toggle=\"tooltip\" title=\"0xaaca4c11ab69332c7fd5022565499721173d4b64\">0xaaca4c11ab69332c7fd5022565499721173d4b64</span>, <a class=\"hash-tag text-truncate\" href=\"/tx/0x0aadbc0803b5409c1f7102379a561384a77e8cf5649a941d5cf600cca8e3d9c9\">0x0aadbc0803b5409c1f7102379a561384a77e8cf5649a941d5cf600cca8e3d9c9</a>, <a class=\"hash-tag text-truncate\" href=\"/block/11236276\">11236276</a>, <a class=\"hash-tag text-truncate\" data-boundary=\"viewport\" data-html=\"true\" data-placement=\"bottom\" data-toggle=\"tooltip\" href=\"/address/0x7a250d5630b4cf539739df2c5dacb4c659f2488d\" title=\"Uniswap V2: Router 2\n",
      "(0x7a250d5630b4cf539739df2c5dacb4c659f2488d)\">Uniswap V2: Router 2</a>, <span class=\"hash-tag text-truncate\" data-boundary=\"viewport\" data-html=\"true\" data-placement=\"bottom\" data-toggle=\"tooltip\" title=\"0xaaca4c11ab69332c7fd5022565499721173d4b64\">0xaaca4c11ab69332c7fd5022565499721173d4b64</span>, <a class=\"hash-tag text-truncate\" href=\"/tx/0x4507b2e9fcdf145b34c32a1ff69f82d4dc044a83ef941479a0ac747b6e785032\">0x4507b2e9fcdf145b34c32a1ff69f82d4dc044a83ef941479a0ac747b6e785032</a>, <a class=\"hash-tag text-truncate\" href=\"/block/11111437\">11111437</a>, <a class=\"hash-tag text-truncate\" data-boundary=\"viewport\" data-html=\"true\" data-placement=\"bottom\" data-toggle=\"tooltip\" href=\"/address/0x7a250d5630b4cf539739df2c5dacb4c659f2488d\" title=\"Uniswap V2: Router 2\n",
      "(0x7a250d5630b4cf539739df2c5dacb4c659f2488d)\">Uniswap V2: Router 2</a>, <span class=\"hash-tag text-truncate\" data-boundary=\"viewport\" data-html=\"true\" data-placement=\"bottom\" data-toggle=\"tooltip\" title=\"0xaaca4c11ab69332c7fd5022565499721173d4b64\">0xaaca4c11ab69332c7fd5022565499721173d4b64</span>, <a class=\"hash-tag text-truncate\" href=\"/tx/0x5c17f3b0276279524c977b6a292cb7545d004130176e279a33efb56563e9203b\">0x5c17f3b0276279524c977b6a292cb7545d004130176e279a33efb56563e9203b</a>, <a class=\"hash-tag text-truncate\" href=\"/block/11078473\">11078473</a>, <a class=\"hash-tag text-truncate\" data-boundary=\"viewport\" data-html=\"true\" data-placement=\"bottom\" data-toggle=\"tooltip\" href=\"/address/0x7a250d5630b4cf539739df2c5dacb4c659f2488d\" title=\"Uniswap V2: Router 2\n",
      "(0x7a250d5630b4cf539739df2c5dacb4c659f2488d)\">Uniswap V2: Router 2</a>, <span class=\"hash-tag text-truncate\" data-boundary=\"viewport\" data-html=\"true\" data-placement=\"bottom\" data-toggle=\"tooltip\" title=\"0xaaca4c11ab69332c7fd5022565499721173d4b64\">0xaaca4c11ab69332c7fd5022565499721173d4b64</span>]\n"
     ]
    }
   ],
   "source": [
    "import requests\n",
    "from bs4 import BeautifulSoup\n",
    "from urllib.request import urlopen\n",
    "\n",
    "input_data = input(\"Search by Address : \").lower() # etherium 주소를 입력받고 소문자 치환\n",
    "URL = f\"https://etherscan.io/address/{input_data}\" # etherscan.io 주소 URL 변수에 선언\n",
    "#URL = \"https://etherscan.io/address/0x6b50911190cffd34b50d575706639c24aafdc625\"\n",
    "print(URL + \"\\n\" + \"-\"*70) # -*70줄 프린트\n",
    "\n",
    "headers = {'User-Agent': 'Mozilla/5.0'} # header 선언, http 요청 브라우저는 Mozilla.\n",
    "resp = requests.get(URL, headers=headers) # http get 요청을 resp 변수에 선언\n",
    "print(resp) # 요청 프린트\n",
    "print(URL + \"\\n\" + \"-\"*70) # -*70줄 프린트\n",
    "\n",
    "# parameter 전달법 확인\n",
    "params = {'key':'value'}\n",
    "res = requests.get(URL, params=params)\n",
    "res.url\n",
    "print(URL + \"\\n\" + \"-\"*70) # -*70줄 프린트\n",
    "\n",
    "im = BeautifulSoup(resp.text, 'html.parser') #세션을 가져와서 html을 text로 parsing, im 변수에 선언\n",
    "tag = im.find_all(attrs={'class':'hash-tag text-truncate'}) #im 변수에서 hash-tag text-truncate class를 저장\n",
    "print(tag) #가공되지 않은 크롤링 값 출력"
   ]
  },
  {
   "cell_type": "code",
   "execution_count": null,
   "metadata": {},
   "outputs": [],
   "source": []
  }
 ],
 "metadata": {
  "kernelspec": {
   "display_name": "Python 3",
   "language": "python",
   "name": "python3"
  },
  "language_info": {
   "codemirror_mode": {
    "name": "ipython",
    "version": 3
   },
   "file_extension": ".py",
   "mimetype": "text/x-python",
   "name": "python",
   "nbconvert_exporter": "python",
   "pygments_lexer": "ipython3",
   "version": "3.8.3"
  }
 },
 "nbformat": 4,
 "nbformat_minor": 4
}
