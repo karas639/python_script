{
 "cells": [
  {
   "cell_type": "markdown",
   "metadata": {},
   "source": [
    "## 네이버 검색어 지정 및 기사(News) 크롤링"
   ]
  },
  {
   "cell_type": "code",
   "execution_count": null,
   "metadata": {
    "tags": []
   },
   "outputs": [],
   "source": [
    "import os\n",
    "import sys\n",
    "from urllib.parse import urlparse\n",
    "import requests as req\n",
    "search = \"정보보안\"\n",
    "url = 'https://openapi.naver.com/v1/search/'+'news'+'?query='+search+'&display=3'\n",
    "res = req.get(urlparse(url).geturl(),\n",
    "headers={'X-Naver-Client-Id': 'ys1o3hhvs_IL8YTasnby',\n",
    "'X-Naver-Client-Secret': 'wYUFA7vyAs'})\n",
    "print(res.status_code)\n",
    "print(res.text)"
   ]
  },
  {
   "cell_type": "markdown",
   "metadata": {},
   "source": [
    "## 티스토리 블로그 자동 로그인 및 access token 발급 받기"
   ]
  },
  {
   "cell_type": "code",
   "execution_count": 39,
   "metadata": {
    "scrolled": true,
    "tags": []
   },
   "outputs": [
    {
     "name": "stdout",
     "output_type": "stream",
     "text": [
      "https://www.tistory.com/oauth/authorize?client_id=a1f11d9eb54d53fcdb19da6026fa0fa7&redirect_uri=https://kkamagistory.tistory.com&response_type=token\n",
      "200\n",
      "https://www.tistory.com/auth/login/?popup=1&redirectUrl=https%3A%2F%2Fwww.tistory.com%2Foauth%2Fauthorize%3Fclient_id%3Da1f11d9eb54d53fcdb19da6026fa0fa7%26redirect_uri%3Dhttps%3A%2F%2Fkkamagistory.tistory.com%26response_type%3Dtoken\n",
      "access token :  3d995c313268cc34700ff3e67ba20efd_c81935382d3874d1fa5e6c9dbd1372a8\n"
     ]
    }
   ],
   "source": [
    "import requests\n",
    "import json\n",
    "import re\n",
    "\n",
    "# App 아이디 설정\n",
    "client_id = 'a1f11d9eb54d53fcdb19da6026fa0fa7'\n",
    "\n",
    "# Callback 설정\n",
    "redirect_uri = 'https://kkamagistory.tistory.com'\n",
    "oauth_url = \"https://www.tistory.com/oauth/authorize?client_id=\"+client_id+\"&redirect_uri=\"+redirect_uri+\"&response_type=token\"\n",
    "\n",
    "#tistory account\n",
    "user_id = 'karas639@gmail.com'\n",
    "password = 'dwkimsec135@$^'\n",
    "\n",
    "print(oauth_url)\n",
    "\n",
    "res = requests.get(oauth_url)\n",
    "print(res.status_code)\n",
    "#print(res.headers['Set-Cookie'])\n",
    "#kakao_cookie = res.headers['Set-Cookie'].replace(\"; path=/\",'')\n",
    "#print(kakao_cookie)\n",
    "print(res.url)\n",
    "headers = {\n",
    "    'Accept' : 'text/html, application/xhtml+xml, image/jxr, */*',\n",
    "    'Accept-Encoding' : 'gzip, deflate',\n",
    "    'Accept-Language' : 'ko, en-US; q=0.8, en; q=0.6, zh-Hans-CN; q=0.4, zh-Hans; q=0.2',\n",
    "    'Cache-Control' : 'no-cache',\n",
    "    'Connection' : 'Keep-Alive',\n",
    "    'Content-Type' : 'application/x-www-form-urlencoded',\n",
    "    #'Cookie' : kakao_cookie,\n",
    "    'Host' : 'www.tistory.com',\n",
    "    'Referer' : res.url,\n",
    "    'User-Agent' : 'Mozilla/5.0 (Windows NT 10.0; WOW64; Trident/7.0; rv:11.0) like Gecko'\n",
    "}\n",
    "login_data = {\n",
    "    'fp' : 'a1f11d9eb54d53fcdb19da6026fa0fa7',\n",
    "    'keepLogin' : 'on',\n",
    "    'loginId' : user_id,\n",
    "    'password' : password,\n",
    "    'redirectUrl' : res.url\n",
    "}\n",
    "\n",
    "res = requests.post('https://www.tistory.com/auth/login', headers=headers, data=login_data)\n",
    "#print(res.url)\n",
    "match = re.match('(.*?)access_token=(?P<access_token>.*?)&state=', res.url)\n",
    "#print(match)\n",
    "gd = match.groupdict()\n",
    "access_token = gd['access_token']\n",
    "print(\"access token : \", access_token)\n",
    "\n",
    "def get_info():\n",
    "    info_url = f'https://www.tistory.com/apis/blog/info?access_token={access_token}&output={output_type}'\n",
    "    r =requests.get(info_url, headers=requests_headers)\n",
    "    return r.text\n",
    "\n",
    "def get_list(page_number):\n",
    "    url = f'https://www.tistory.com/apis/post/list?access_token={access_token}&output={output_type}&blogName={blog_name}&page={page_number}'\n",
    "    r = requests.get(url, headers = requests_headers)\n",
    "    return r.text\n",
    "\n",
    "def get_category():\n",
    "    url = f'https://www.tistory.com/apis/category/list?access_token={access_token}&output={output_type}&blogName={blog_name}'\n",
    "    r = requests.get(url, headers=requests_headers)\n",
    "    r = r.json()['tistory']['item']['categories']\n",
    "    for i in r:\n",
    "        print(f'{i[\"name\"]} ({i[\"id\"]})')\n",
    "    return r\n",
    "\n",
    "def get_write():\n",
    "    title = \"테스트\" #제목 (필수)\n",
    "    content = \"글 내용\" #글내용(필수)\n",
    "    visibility = \"3\" #발행상태 0비공개-기본, 1보고,3발행\n",
    "    category_id = \"0\" #카테고리 아이디 기본값 0\n",
    "    published =\"\" #기본값 : 현재시간\n",
    "    slogan = \"\" #문자주소\n",
    "    tag = \"\" #태그 ,로 구분\n",
    "    acceptComment = \"\" #댓글 허용 (0, 1 - 기본값)\n",
    "    password = \"\" #보호글 비밀번호\n",
    "    url = f'https://www.tistory.com/apis/post/write?access_token={access_token}&output={output_type}&blogName={blog_name}&title={title}&content={content}&visibility={visibility}&category={category_id}&slogan={slogan}&tag={tag}&acceptComment={acceptComment}&password={password}'\n",
    "    r = requests.post(url)\n",
    "    print(r, r.text)\n",
    "    \n",
    "def file_upload():\n",
    "    files = {'uploadedfile': open(filepath, 'rb')}\n",
    "    params = {'access_token': access_token, 'blogName': kkamagistory, 'targetUrl': blogName, 'output': 'json'}\n",
    "    rd = requests.post('https://www.tistory.com/apis/post/attach', params=params, files=files)\n",
    " \n",
    "    try:\n",
    "        item = json.loads(rd.text)\n",
    "        print(json.dumps(item, indent=4))\n",
    "        print(\"----------------------------------------------\")\n",
    "        print(item[\"tistory\"][\"replacer\"])\n",
    "        print(item[\"tistory\"][\"url\"])\n",
    "        print(item[\"tistory\"][\"status\"])\n",
    "    except:\n",
    "        print(\"Failed\")\n",
    " \n",
    " \n",
    "    get_category()"
   ]
  },
  {
   "cell_type": "markdown",
   "metadata": {},
   "source": [
    "# 2020.6.15일 변경사항\n",
    "\n",
    "### 참고 : https://godpeople.or.kr/board/4927670\n",
    "-400에러가 발생하면서 \"access_token 이 유효하지 않습니다.\"라는 에러가 발생하는 경우에 대한 패치\n",
    "\n",
    "-원인, request로 처리하는 과정에서 해더 정보를 새롭게 체크하는 것 같습니다.\n",
    "\n",
    "-해당 해더 정보를 추가하면 됩니다.\n",
    "\n",
    "- 아래 참고\n",
    "\n",
    "requests_headers = {\n",
    "    \"User-Agent\": \"Mozilla/5.0 (Windows NT 10.0; Win64; x64) AppleWebKit/537.36 (KHTML, like Gecko) Chrome/71.0.3578.98 Safari/537.36\"\n",
    "}\n",
    "\n",
    " \n",
    "\n",
    "requests.get(url, headers=requests_headers)"
   ]
  },
  {
   "cell_type": "code",
   "execution_count": null,
   "metadata": {},
   "outputs": [],
   "source": []
  }
 ],
 "metadata": {
  "kernelspec": {
   "display_name": "Python 3",
   "language": "python",
   "name": "python3"
  },
  "language_info": {
   "codemirror_mode": {
    "name": "ipython",
    "version": 3
   },
   "file_extension": ".py",
   "mimetype": "text/x-python",
   "name": "python",
   "nbconvert_exporter": "python",
   "pygments_lexer": "ipython3",
   "version": "3.7.6"
  }
 },
 "nbformat": 4,
 "nbformat_minor": 4
}
