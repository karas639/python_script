{
 "cells": [
  {
   "cell_type": "markdown",
   "metadata": {},
   "source": [
    "### 이더리움 계좌 검색"
   ]
  },
  {
   "cell_type": "markdown",
   "metadata": {},
   "source": [
    "### 모듈\n",
    "- requests\n",
    "\n",
    "- BeautifulSoup\n",
    "\n",
    "- urlopen"
   ]
  },
  {
   "cell_type": "markdown",
   "metadata": {},
   "source": [
    "#### data_proto.py"
   ]
  },
  {
   "cell_type": "code",
   "execution_count": 2,
   "metadata": {
    "scrolled": true
   },
   "outputs": [
    {
     "name": "stdout",
     "output_type": "stream",
     "text": [
      "Search by Address : 0xaAca4C11aB69332C7fD5022565499721173d4B64\n",
      "https://etherscan.io/address/0xaaca4c11ab69332c7fd5022565499721173d4b64\n",
      "----------------------------------------------------------------------\n",
      "<Response [200]>\n",
      "https://etherscan.io/address/0xaaca4c11ab69332c7fd5022565499721173d4b64\n",
      "----------------------------------------------------------------------\n",
      "https://etherscan.io/address/0xaaca4c11ab69332c7fd5022565499721173d4b64\n",
      "----------------------------------------------------------------------\n",
      "[<span class=\"hash-tag text-truncate\" data-placement=\"bottom\" data-toggle=\"tooltip\" title=\"0xaaca4c11ab69332c7fd5022565499721173d4b64\">0xaaca4c11ab69332c7fd5022565499721173d4b64</span>, <a class=\"hash-tag text-truncate\" data-placement=\"bottom\" data-toggle=\"tooltip\" href=\"/address/0x0c59f053cb8ba59b76c359f4b3ba3135b24690b4\" title=\"0x0c59f053cb8ba59b76c359f4b3ba3135b24690b4\">0x0c59f053cb8ba59b76c359f4b3ba3135b24690b4</a>, <span class=\"hash-tag text-truncate\" data-placement=\"bottom\" data-toggle=\"tooltip\" title=\"0xaaca4c11ab69332c7fd5022565499721173d4b64\">0xaaca4c11ab69332c7fd5022565499721173d4b64</span>, <a class=\"hash-tag text-truncate\" data-boundary=\"viewport\" data-html=\"true\" data-placement=\"bottom\" data-toggle=\"tooltip\" href=\"/address/0x7a250d5630b4cf539739df2c5dacb4c659f2488d\" title=\"Uniswap V2: Router 2\n",
      "(0x7a250d5630b4cf539739df2c5dacb4c659f2488d)\">Uniswap V2: Router 2</a>, <span class=\"hash-tag text-truncate\" data-placement=\"bottom\" data-toggle=\"tooltip\" title=\"0xaaca4c11ab69332c7fd5022565499721173d4b64\">0xaaca4c11ab69332c7fd5022565499721173d4b64</span>, <a class=\"hash-tag text-truncate\" data-placement=\"bottom\" data-toggle=\"tooltip\" href=\"/address/0x26a41a77d89dfbc819efa410caf9beb3d760c142\" title=\"0x26a41a77d89dfbc819efa410caf9beb3d760c142\">0x26a41a77d89dfbc819efa410caf9beb3d760c142</a>, <span class=\"hash-tag text-truncate\" data-placement=\"bottom\" data-toggle=\"tooltip\" title=\"0xaaca4c11ab69332c7fd5022565499721173d4b64\">0xaaca4c11ab69332c7fd5022565499721173d4b64</span>, <a class=\"hash-tag text-truncate\" data-boundary=\"viewport\" data-html=\"true\" data-placement=\"bottom\" data-toggle=\"tooltip\" href=\"/address/0x7a250d5630b4cf539739df2c5dacb4c659f2488d\" title=\"Uniswap V2: Router 2\n",
      "(0x7a250d5630b4cf539739df2c5dacb4c659f2488d)\">Uniswap V2: Router 2</a>, <span class=\"hash-tag text-truncate\" data-placement=\"bottom\" data-toggle=\"tooltip\" title=\"0xaaca4c11ab69332c7fd5022565499721173d4b64\">0xaaca4c11ab69332c7fd5022565499721173d4b64</span>, <a class=\"hash-tag text-truncate\" data-placement=\"bottom\" data-toggle=\"tooltip\" href=\"/address/0x0c59f053cb8ba59b76c359f4b3ba3135b24690b4\" title=\"0x0c59f053cb8ba59b76c359f4b3ba3135b24690b4\">0x0c59f053cb8ba59b76c359f4b3ba3135b24690b4</a>, <span class=\"hash-tag text-truncate\" data-placement=\"bottom\" data-toggle=\"tooltip\" title=\"0xaaca4c11ab69332c7fd5022565499721173d4b64\">0xaaca4c11ab69332c7fd5022565499721173d4b64</span>, <a class=\"hash-tag text-truncate\" data-boundary=\"viewport\" data-html=\"true\" data-placement=\"bottom\" data-toggle=\"tooltip\" href=\"/address/0x7a250d5630b4cf539739df2c5dacb4c659f2488d\" title=\"Uniswap V2: Router 2\n",
      "(0x7a250d5630b4cf539739df2c5dacb4c659f2488d)\">Uniswap V2: Router 2</a>, <span class=\"hash-tag text-truncate\" data-placement=\"bottom\" data-toggle=\"tooltip\" title=\"0xaaca4c11ab69332c7fd5022565499721173d4b64\">0xaaca4c11ab69332c7fd5022565499721173d4b64</span>, <a class=\"hash-tag text-truncate\" data-placement=\"bottom\" data-toggle=\"tooltip\" href=\"/address/0x26a41a77d89dfbc819efa410caf9beb3d760c142\" title=\"0x26a41a77d89dfbc819efa410caf9beb3d760c142\">0x26a41a77d89dfbc819efa410caf9beb3d760c142</a>, <a class=\"hash-tag text-truncate\" data-placement=\"bottom\" data-toggle=\"tooltip\" href=\"/address/0xc6001412b98d9237a1a4e07a9004542c52a5ee06\" title=\"0xc6001412b98d9237a1a4e07a9004542c52a5ee06\">0xc6001412b98d9237a1a4e07a9004542c52a5ee06</a>, <span class=\"hash-tag text-truncate\" data-placement=\"bottom\" data-toggle=\"tooltip\" title=\"0xaaca4c11ab69332c7fd5022565499721173d4b64\">0xaaca4c11ab69332c7fd5022565499721173d4b64</span>, <span class=\"hash-tag text-truncate\" data-placement=\"bottom\" data-toggle=\"tooltip\" title=\"0xaaca4c11ab69332c7fd5022565499721173d4b64\">0xaaca4c11ab69332c7fd5022565499721173d4b64</span>, <a class=\"hash-tag text-truncate\" data-placement=\"bottom\" data-toggle=\"tooltip\" href=\"/address/0x0c59f053cb8ba59b76c359f4b3ba3135b24690b4\" title=\"0x0c59f053cb8ba59b76c359f4b3ba3135b24690b4\">0x0c59f053cb8ba59b76c359f4b3ba3135b24690b4</a>, <span class=\"hash-tag text-truncate\" data-placement=\"bottom\" data-toggle=\"tooltip\" title=\"0xaaca4c11ab69332c7fd5022565499721173d4b64\">0xaaca4c11ab69332c7fd5022565499721173d4b64</span>, <a class=\"hash-tag text-truncate\" data-boundary=\"viewport\" data-html=\"true\" data-placement=\"bottom\" data-toggle=\"tooltip\" href=\"/address/0x7a250d5630b4cf539739df2c5dacb4c659f2488d\" title=\"Uniswap V2: Router 2\n",
      "(0x7a250d5630b4cf539739df2c5dacb4c659f2488d)\">Uniswap V2: Router 2</a>, <span class=\"hash-tag text-truncate\" data-placement=\"bottom\" data-toggle=\"tooltip\" title=\"0xaaca4c11ab69332c7fd5022565499721173d4b64\">0xaaca4c11ab69332c7fd5022565499721173d4b64</span>, <a class=\"hash-tag text-truncate\" data-placement=\"bottom\" data-toggle=\"tooltip\" href=\"/address/0x26a41a77d89dfbc819efa410caf9beb3d760c142\" title=\"0x26a41a77d89dfbc819efa410caf9beb3d760c142\">0x26a41a77d89dfbc819efa410caf9beb3d760c142</a>, <a class=\"hash-tag text-truncate\" data-placement=\"bottom\" data-toggle=\"tooltip\" href=\"/address/0x0a03f8c59d342f31f5c934b8d5756ff25583a9d4\" title=\"0x0a03f8c59d342f31f5c934b8d5756ff25583a9d4\">0x0a03f8c59d342f31f5c934b8d5756ff25583a9d4</a>, <span class=\"hash-tag text-truncate\" data-placement=\"bottom\" data-toggle=\"tooltip\" title=\"0xaaca4c11ab69332c7fd5022565499721173d4b64\">0xaaca4c11ab69332c7fd5022565499721173d4b64</span>, <span class=\"hash-tag text-truncate\" data-placement=\"bottom\" data-toggle=\"tooltip\" title=\"0xaaca4c11ab69332c7fd5022565499721173d4b64\">0xaaca4c11ab69332c7fd5022565499721173d4b64</span>, <a class=\"hash-tag text-truncate\" data-placement=\"bottom\" data-toggle=\"tooltip\" href=\"/address/0x0c59f053cb8ba59b76c359f4b3ba3135b24690b4\" title=\"0x0c59f053cb8ba59b76c359f4b3ba3135b24690b4\">0x0c59f053cb8ba59b76c359f4b3ba3135b24690b4</a>, <span class=\"hash-tag text-truncate\" data-placement=\"bottom\" data-toggle=\"tooltip\" title=\"0xaaca4c11ab69332c7fd5022565499721173d4b64\">0xaaca4c11ab69332c7fd5022565499721173d4b64</span>, <a class=\"hash-tag text-truncate\" data-boundary=\"viewport\" data-html=\"true\" data-placement=\"bottom\" data-toggle=\"tooltip\" href=\"/address/0x7a250d5630b4cf539739df2c5dacb4c659f2488d\" title=\"Uniswap V2: Router 2\n",
      "(0x7a250d5630b4cf539739df2c5dacb4c659f2488d)\">Uniswap V2: Router 2</a>, <span class=\"hash-tag text-truncate\" data-placement=\"bottom\" data-toggle=\"tooltip\" title=\"0xaaca4c11ab69332c7fd5022565499721173d4b64\">0xaaca4c11ab69332c7fd5022565499721173d4b64</span>, <a class=\"hash-tag text-truncate\" data-placement=\"bottom\" data-toggle=\"tooltip\" href=\"/address/0x51b4b27a7bd296fd34ca7c469f49d5bcd7fe5137\" title=\"0x51b4b27a7bd296fd34ca7c469f49d5bcd7fe5137\">0x51b4b27a7bd296fd34ca7c469f49d5bcd7fe5137</a>, <span class=\"hash-tag text-truncate\" data-placement=\"bottom\" data-toggle=\"tooltip\" title=\"0xaaca4c11ab69332c7fd5022565499721173d4b64\">0xaaca4c11ab69332c7fd5022565499721173d4b64</span>, <a class=\"hash-tag text-truncate\" data-placement=\"bottom\" data-toggle=\"tooltip\" href=\"/address/0x26a41a77d89dfbc819efa410caf9beb3d760c142\" title=\"0x26a41a77d89dfbc819efa410caf9beb3d760c142\">0x26a41a77d89dfbc819efa410caf9beb3d760c142</a>, <a class=\"hash-tag text-truncate\" data-placement=\"bottom\" data-toggle=\"tooltip\" href=\"/address/0x66801867b2b9ec8f9cbae8b208c823e9ae7e1fd2\" title=\"0x66801867b2b9ec8f9cbae8b208c823e9ae7e1fd2\">0x66801867b2b9ec8f9cbae8b208c823e9ae7e1fd2</a>, <span class=\"hash-tag text-truncate\" data-placement=\"bottom\" data-toggle=\"tooltip\" title=\"0xaaca4c11ab69332c7fd5022565499721173d4b64\">0xaaca4c11ab69332c7fd5022565499721173d4b64</span>, <a class=\"hash-tag text-truncate\" href=\"/tx/0xa734d239a6b3f1b044d748c62c0ab9a92556a54a97410387217bc53dbd3a6313\">0xa734d239a6b3f1b044d748c62c0ab9a92556a54a97410387217bc53dbd3a6313</a>, <a class=\"hash-tag text-truncate\" href=\"/block/11305512\">11305512</a>, <a class=\"hash-tag text-truncate\" data-boundary=\"viewport\" data-html=\"true\" data-placement=\"bottom\" data-toggle=\"tooltip\" href=\"/address/0x7a250d5630b4cf539739df2c5dacb4c659f2488d\" title=\"Uniswap V2: Router 2\n",
      "(0x7a250d5630b4cf539739df2c5dacb4c659f2488d)\">Uniswap V2: Router 2</a>, <span class=\"hash-tag text-truncate\" data-boundary=\"viewport\" data-html=\"true\" data-placement=\"bottom\" data-toggle=\"tooltip\" title=\"0xaaca4c11ab69332c7fd5022565499721173d4b64\">0xaaca4c11ab69332c7fd5022565499721173d4b64</span>, <a class=\"hash-tag text-truncate\" href=\"/tx/0x276617fc7862161344a1ca1859e5eb8deab727f61565a3ac33e471a486bd7311\">0x276617fc7862161344a1ca1859e5eb8deab727f61565a3ac33e471a486bd7311</a>, <a class=\"hash-tag text-truncate\" href=\"/block/11305472\">11305472</a>, <a class=\"hash-tag text-truncate\" data-boundary=\"viewport\" data-html=\"true\" data-placement=\"bottom\" data-toggle=\"tooltip\" href=\"/address/0x7a250d5630b4cf539739df2c5dacb4c659f2488d\" title=\"Uniswap V2: Router 2\n",
      "(0x7a250d5630b4cf539739df2c5dacb4c659f2488d)\">Uniswap V2: Router 2</a>, <span class=\"hash-tag text-truncate\" data-boundary=\"viewport\" data-html=\"true\" data-placement=\"bottom\" data-toggle=\"tooltip\" title=\"0xaaca4c11ab69332c7fd5022565499721173d4b64\">0xaaca4c11ab69332c7fd5022565499721173d4b64</span>, <a class=\"hash-tag text-truncate\" href=\"/tx/0x0aadbc0803b5409c1f7102379a561384a77e8cf5649a941d5cf600cca8e3d9c9\">0x0aadbc0803b5409c1f7102379a561384a77e8cf5649a941d5cf600cca8e3d9c9</a>, <a class=\"hash-tag text-truncate\" href=\"/block/11236276\">11236276</a>, <a class=\"hash-tag text-truncate\" data-boundary=\"viewport\" data-html=\"true\" data-placement=\"bottom\" data-toggle=\"tooltip\" href=\"/address/0x7a250d5630b4cf539739df2c5dacb4c659f2488d\" title=\"Uniswap V2: Router 2\n",
      "(0x7a250d5630b4cf539739df2c5dacb4c659f2488d)\">Uniswap V2: Router 2</a>, <span class=\"hash-tag text-truncate\" data-boundary=\"viewport\" data-html=\"true\" data-placement=\"bottom\" data-toggle=\"tooltip\" title=\"0xaaca4c11ab69332c7fd5022565499721173d4b64\">0xaaca4c11ab69332c7fd5022565499721173d4b64</span>, <a class=\"hash-tag text-truncate\" href=\"/tx/0x4507b2e9fcdf145b34c32a1ff69f82d4dc044a83ef941479a0ac747b6e785032\">0x4507b2e9fcdf145b34c32a1ff69f82d4dc044a83ef941479a0ac747b6e785032</a>, <a class=\"hash-tag text-truncate\" href=\"/block/11111437\">11111437</a>, <a class=\"hash-tag text-truncate\" data-boundary=\"viewport\" data-html=\"true\" data-placement=\"bottom\" data-toggle=\"tooltip\" href=\"/address/0x7a250d5630b4cf539739df2c5dacb4c659f2488d\" title=\"Uniswap V2: Router 2\n",
      "(0x7a250d5630b4cf539739df2c5dacb4c659f2488d)\">Uniswap V2: Router 2</a>, <span class=\"hash-tag text-truncate\" data-boundary=\"viewport\" data-html=\"true\" data-placement=\"bottom\" data-toggle=\"tooltip\" title=\"0xaaca4c11ab69332c7fd5022565499721173d4b64\">0xaaca4c11ab69332c7fd5022565499721173d4b64</span>, <a class=\"hash-tag text-truncate\" href=\"/tx/0x5c17f3b0276279524c977b6a292cb7545d004130176e279a33efb56563e9203b\">0x5c17f3b0276279524c977b6a292cb7545d004130176e279a33efb56563e9203b</a>, <a class=\"hash-tag text-truncate\" href=\"/block/11078473\">11078473</a>, <a class=\"hash-tag text-truncate\" data-boundary=\"viewport\" data-html=\"true\" data-placement=\"bottom\" data-toggle=\"tooltip\" href=\"/address/0x7a250d5630b4cf539739df2c5dacb4c659f2488d\" title=\"Uniswap V2: Router 2\n",
      "(0x7a250d5630b4cf539739df2c5dacb4c659f2488d)\">Uniswap V2: Router 2</a>, <span class=\"hash-tag text-truncate\" data-boundary=\"viewport\" data-html=\"true\" data-placement=\"bottom\" data-toggle=\"tooltip\" title=\"0xaaca4c11ab69332c7fd5022565499721173d4b64\">0xaaca4c11ab69332c7fd5022565499721173d4b64</span>]\n"
     ]
    }
   ],
   "source": [
    "import requests\n",
    "from bs4 import BeautifulSoup\n",
    "from urllib.request import urlopen\n",
    "\n",
    "input_data = input(\"Search by Address : \").lower() # etherium 주소를 입력받고 소문자 치환\n",
    "URL = f\"https://etherscan.io/address/{input_data}\" # etherscan.io 주소 URL 변수에 선언\n",
    "#URL = \"https://etherscan.io/address/0x6b50911190cffd34b50d575706639c24aafdc625\"\n",
    "print(URL + \"\\n\" + \"-\"*70) # -*70줄 프린트\n",
    "\n",
    "headers = {'User-Agent': 'Mozilla/5.0'} # header 선언, http 요청 브라우저는 Mozilla.\n",
    "resp = requests.get(URL, headers=headers) # http get 요청을 resp 변수에 선언\n",
    "print(resp) # 요청 프린트\n",
    "print(URL + \"\\n\" + \"-\"*70) # -*70줄 프린트\n",
    "\n",
    "# parameter 전달법 확인\n",
    "params = {'key':'value'}\n",
    "res = requests.get(URL, params=params)\n",
    "res.url\n",
    "print(URL + \"\\n\" + \"-\"*70) # -*70줄 프린트\n",
    "\n",
    "im = BeautifulSoup(resp.text, 'html.parser') #세션을 가져와서 html을 text로 parsing, im 변수에 선언\n",
    "tag = im.find_all(attrs={'class':'hash-tag text-truncate'}) #im 변수에서 hash-tag text-truncate class를 저장\n",
    "print(tag) #가공되지 않은 크롤링 값 출력"
   ]
  },
  {
   "cell_type": "markdown",
   "metadata": {},
   "source": [
    "# 비트코인 주소 크롤링\n",
    "\n",
    "## 문제정의\n",
    "### 1) 파이썬 프로그래밍을 이용하여 블록체인 기반의 지갑 정보 가져오기\n",
    "- 지갑 주소\n",
    "- 최종 잔액\n",
    "- 마지막 거래 지갑 주소\n"
   ]
  },
  {
   "cell_type": "markdown",
   "metadata": {},
   "source": [
    "## 파이썬 프로그래밍\n",
    "### 1) 코딩 및 분석\n",
    "결과\n",
    "지갑 주소 : 1GdNy7is8oLWVy36F8mwTGiFNU95RKXZRM\n",
    "\n",
    "1GdNy7is8oLWVy36F8mwTGiFNU95RKXZRM\n",
    "0.190923\n",
    "1GdNy7is8oLWVy36F8mwTGiFNU95RKXZRM\n",
    "\n",
    "\n",
    "\n",
    "\n",
    "\n",
    "\n",
    "지갑 주소 : 15KndYKJBCktPDAGqEjmKPZS95qfrceYAq\n",
    "\n",
    "15KndYKJBCktPDAGqEjmKPZS95qfrceYAq\n",
    "0.0\n",
    "3CTKtfUH4hZSR7aXmK4PxEu9rQtP9TGSRB\n",
    "\n",
    "\n"
   ]
  },
  {
   "cell_type": "code",
   "execution_count": 17,
   "metadata": {},
   "outputs": [
    {
     "name": "stdout",
     "output_type": "stream",
     "text": [
      "Search by Address : 1GdNy7is8oLWVy36F8mwTGiFNU95RKXZRM\n"
     ]
    },
    {
     "data": {
      "text/plain": [
       "'\\n#문자 및 태그 제거\\n        bal = re.sub(\" BTC\", \"\", str_bal)\\n        lastBal = re.sub(\"<.+?>\", \"\", bal)\\n        #값 비교를 위해 float형변환 후 출력\\n        float_bal = float(lastBal)\\n        print float_bal\\n\\n#모든 td태그의 txtd mobile-f12 stack-mobile 클래스를 한 번 찾아 trade에 저장\\ntrade = soup.find_all(\"td\", class_=\"txtd mobile-f12 stack-mobile\", limit=1)\\n#trade를 Addr에 저장하면서 string형변환\\nfor Addr in trade:\\n        str_Addr = str(Addr)\\n#span태그 제거\\n        rep_Addr = re.sub(\"<span.*?>.*?</span>\", \"\", str_Addr)\\n        #태그 제거 후 text만 출력\\n        lastAddr = re.sub(\"<.+?>\", \"\", rep_Addr)\\n        print(lastAddr)\\n        \\n        \\n'"
      ]
     },
     "execution_count": 17,
     "metadata": {},
     "output_type": "execute_result"
    }
   ],
   "source": [
    "import re\n",
    "import requests\n",
    "from bs4 import BeautifulSoup\n",
    "\n",
    "#지갑주소의 html 끌어오기\n",
    "input_data = input(\"Search by Address : \").lower() # 비트코인 주소를 입력받고 소문자 치환\n",
    "#URL = f\"https://etherscan.io/address/{input_data}\" # etherscan.io 주소 URL 변수에 선언\n",
    "#response = requests.get('https://blockchain.info/ko/address/지갑주소')\n",
    "response = requests.get('https://blockchain.info/ko/address/'+input_data)\n",
    "html = response.text\n",
    "soup = BeautifulSoup(html, 'html.parser')\n",
    "\n",
    "#모든 a태그의 mobile-12 클래스 한 번 찾아 address에 저장 후 텍스트만 출력\n",
    "for address in soup.find_all(\"a\", class_=\"mobile-f12\", limit=1):\n",
    "        print(address.text)\n",
    "\n",
    "#모든 td태그의 final_balance 아이디를 찾아 balance에 저장\n",
    "for balance in soup.find_all(\"td\", id=\"final_balance\"):\n",
    "        #re.sub함수 이용을 위해 string형변환\n",
    "    print(balance)\n",
    "\n",
    "\n",
    "    str_bal = str(balance)\n",
    "    print(str_bal)\n",
    "\n",
    "    \n",
    "    \n",
    "'''\n",
    "#문자 및 태그 제거\n",
    "        bal = re.sub(\" BTC\", \"\", str_bal)\n",
    "        lastBal = re.sub(\"<.+?>\", \"\", bal)\n",
    "        #값 비교를 위해 float형변환 후 출력\n",
    "        float_bal = float(lastBal)\n",
    "        print float_bal\n",
    "\n",
    "#모든 td태그의 txtd mobile-f12 stack-mobile 클래스를 한 번 찾아 trade에 저장\n",
    "trade = soup.find_all(\"td\", class_=\"txtd mobile-f12 stack-mobile\", limit=1)\n",
    "#trade를 Addr에 저장하면서 string형변환\n",
    "for Addr in trade:\n",
    "        str_Addr = str(Addr)\n",
    "#span태그 제거\n",
    "        rep_Addr = re.sub(\"<span.*?>.*?</span>\", \"\", str_Addr)\n",
    "        #태그 제거 후 text만 출력\n",
    "        lastAddr = re.sub(\"<.+?>\", \"\", rep_Addr)\n",
    "        print(lastAddr)\n",
    "        \n",
    "        \n",
    "'''"
   ]
  },
  {
   "cell_type": "code",
   "execution_count": 15,
   "metadata": {},
   "outputs": [
    {
     "name": "stdout",
     "output_type": "stream",
     "text": [
      "heelo\n"
     ]
    }
   ],
   "source": [
    "s = 'heelo'\n",
    "a = str(s)\n",
    "print(a)"
   ]
  }
 ],
 "metadata": {
  "kernelspec": {
   "display_name": "Python 3",
   "language": "python",
   "name": "python3"
  },
  "language_info": {
   "codemirror_mode": {
    "name": "ipython",
    "version": 3
   },
   "file_extension": ".py",
   "mimetype": "text/x-python",
   "name": "python",
   "nbconvert_exporter": "python",
   "pygments_lexer": "ipython3",
   "version": "3.8.3"
  }
 },
 "nbformat": 4,
 "nbformat_minor": 4
}
