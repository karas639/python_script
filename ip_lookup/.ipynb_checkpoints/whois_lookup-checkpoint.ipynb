{
 "cells": [
  {
   "cell_type": "code",
   "execution_count": null,
   "metadata": {
    "id": "wAJWvUaq2Ocd",
    "outputId": "c9be3745-7969-4861-cbe8-cf0a67f83b54"
   },
   "outputs": [
    {
     "data": {
      "text/plain": [
       "'192.168.100.10'"
      ]
     },
     "execution_count": 3,
     "metadata": {
      "tags": []
     },
     "output_type": "execute_result"
    }
   ],
   "source": [
    "a = \"192.168.100.10\"\n",
    "a"
   ]
  },
  {
   "cell_type": "code",
   "execution_count": null,
   "metadata": {
    "id": "gESKCAqO2Ocx",
    "outputId": "fc4f9b72-8611-4fcb-97e9-6da4c0eea49b",
    "scrolled": true
   },
   "outputs": [
    {
     "data": {
      "text/plain": [
       "str"
      ]
     },
     "execution_count": 29,
     "metadata": {
      "tags": []
     },
     "output_type": "execute_result"
    }
   ],
   "source": [
    "type(a)"
   ]
  },
  {
   "cell_type": "code",
   "execution_count": null,
   "metadata": {
    "id": "_yQUG8n82Ocy"
   },
   "outputs": [],
   "source": [
    "import re\n",
    "#pattern = re.compile(\"\\d{3}\\.\\d{3}\\.\\d{3}\\.\\d{3}(\\/)?$\")\n",
    "p = re.compile('ab*')\n",
    "p"
   ]
  },
  {
   "cell_type": "markdown",
   "metadata": {
    "id": "iyLFgk5q2Ocz"
   },
   "source": [
    "##  IP 입력받아서 네번째 옥텟 0으로 치환 후 whois 검색하여 국가코드 붙여서 출력하기\n",
    "\n"
   ]
  },
  {
   "cell_type": "code",
   "execution_count": null,
   "metadata": {
    "id": "pdgF6iXW2Oc0",
    "outputId": "cd919c7f-ee59-40a7-aae7-b2f4fa45e483"
   },
   "outputs": [
    {
     "data": {
      "text/plain": [
       "re.Pattern"
      ]
     },
     "execution_count": 7,
     "metadata": {
      "tags": []
     },
     "output_type": "execute_result"
    }
   ],
   "source": [
    "type(p)"
   ]
  },
  {
   "cell_type": "code",
   "execution_count": null,
   "metadata": {
    "id": "LAmomkC72Oc1"
   },
   "outputs": [],
   "source": [
    "import re\n",
    "p = re.compile('[a-z]+')"
   ]
  },
  {
   "cell_type": "code",
   "execution_count": null,
   "metadata": {
    "id": "HEZ5iMw22Oc1",
    "outputId": "72d1eb3d-99c8-4de6-b13e-ada62e6fed09"
   },
   "outputs": [
    {
     "name": "stdout",
     "output_type": "stream",
     "text": [
      "<re.Match object; span=(0, 6), match='python'>\n"
     ]
    }
   ],
   "source": [
    "m = p.match(\"python\")\n",
    "print(m)"
   ]
  },
  {
   "cell_type": "code",
   "execution_count": null,
   "metadata": {
    "id": "CHK0LW_y2Oc2",
    "outputId": "aa8211b2-4342-4313-eef3-bf2b13099a1d"
   },
   "outputs": [
    {
     "name": "stdout",
     "output_type": "stream",
     "text": [
      "None\n"
     ]
    }
   ],
   "source": [
    "m = p.match(\"3 python\")\n",
    "print(m)"
   ]
  },
  {
   "cell_type": "code",
   "execution_count": null,
   "metadata": {
    "id": "ZCimCLwk2Oc2",
    "outputId": "9e00ecc6-7bfa-45e6-9518-106f9d70023a"
   },
   "outputs": [
    {
     "name": "stdout",
     "output_type": "stream",
     "text": [
      "<re.Match object; span=(0, 15), match='192.168.100.200'>\n"
     ]
    }
   ],
   "source": [
    "p = re.compile(\"\\d{3}\\.\\d{3}\\.\\d{3}\\.\\d{3}(\\/)?$\")\n",
    "str1 = \"192.168.100.200\"\n",
    "print(p.match(str1))"
   ]
  },
  {
   "cell_type": "code",
   "execution_count": null,
   "metadata": {
    "id": "VjdE55sm2Oc3",
    "outputId": "60128e34-2a09-4ac0-dbeb-7fad44b6f435"
   },
   "outputs": [
    {
     "name": "stdout",
     "output_type": "stream",
     "text": [
      "10\n",
      "1 2 5 10 "
     ]
    }
   ],
   "source": [
    "n=int(input())\n",
    "for i in range(1, n+1):\n",
    "    if n%i==0:\n",
    "        print(i, end=' ')"
   ]
  },
  {
   "cell_type": "code",
   "execution_count": null,
   "metadata": {
    "id": "tueeo7ci2Oc4",
    "outputId": "2aa24ff5-b50a-4aaa-94a0-ebaa0458e1d1",
    "scrolled": true
   },
   "outputs": [
    {
     "name": "stdout",
     "output_type": "stream",
     "text": [
      "test\n"
     ]
    },
    {
     "data": {
      "text/plain": [
       "'test'"
      ]
     },
     "execution_count": 13,
     "metadata": {
      "tags": []
     },
     "output_type": "execute_result"
    }
   ],
   "source": [
    "input()"
   ]
  },
  {
   "cell_type": "code",
   "execution_count": null,
   "metadata": {
    "id": "EKuAWshb2Oc4",
    "outputId": "f7df2ede-8d5e-4063-c201-e0009ba2e132",
    "scrolled": true
   },
   "outputs": [
    {
     "name": "stdout",
     "output_type": "stream",
     "text": [
      "10.1.100.1\n",
      "<re.Match object; span=(0, 10), match='10.1.100.1'>\n"
     ]
    }
   ],
   "source": [
    "ip = input()\n",
    "p = re.compile(\"\\d{1,3}\\.\\d{1,3}\\.\\d{1,3}\\.\\d{1,3}(\\/)?$\")\n",
    "print(p.match(ip))"
   ]
  },
  {
   "cell_type": "code",
   "execution_count": null,
   "metadata": {
    "id": "j4FamqRW2Oc5"
   },
   "outputs": [],
   "source": [
    "'''def ip_search(ip):\n",
    "    (a, b, c, d) = ip.split('.')\n",
    "    if d != 0:\n",
    "        d = 0\n",
    "    else:\n",
    "        print(\"continue\")\n",
    "    \n",
    "    ip_result = a+'.'+b+'.'+c+'.'+d+'.'\n",
    "    type(ip_result)\n",
    "    return ip_result\n",
    "\n",
    "''''''\n",
    "file_in = open(\"ip.txt\", 'r')\n",
    "file_out = open(\"ip_result.txt\", 'w')\n",
    "\n",
    "p = re.compile(\"\\d{1,3}\\.\\d{1,3}\\.\\d{1,3}\\.\\d{1,3}(\\/)?$\")\n",
    "print(p.match(ip))\n",
    "\n",
    "while True:\n",
    "    line = file_in.readline()\n",
    "    print(line)\n",
    "    result = p.match(line)\n",
    "    print(result)\n",
    "    \n",
    "file_in.close()\n",
    "file_out.close()\n",
    "'''"
   ]
  },
  {
   "cell_type": "code",
   "execution_count": null,
   "metadata": {
    "id": "DR4E0nat2Oc6",
    "outputId": "e192392c-0377-44c9-9c1a-01d5fe10429e"
   },
   "outputs": [
    {
     "name": "stdout",
     "output_type": "stream",
     "text": [
      "116.97.117.0/24 (VN)\n",
      "107.180.97.0/24 (US)\n"
     ]
    }
   ],
   "source": [
    "import re #정규표현식 모듈\n",
    "import urllib.request\n",
    "import json\n",
    "\n",
    "#file을 이용하여 입력값 넣기\n",
    "file_in = open(\"ip.txt\", 'r')\n",
    "file_out = open(\"ip_result.txt\", 'w')\n",
    "\n",
    "#p = re.compile(\"\\d{1,3}\\.\\d{1,3}\\.\\d{1,3}\\.\\d{1,3}(\\/)?$\")\n",
    "while True:\n",
    "    line = file_in.readline()\n",
    "    #print(line)\n",
    "    p1 = re.sub(\"\\d{1,3}(\\/)?$\",\"0\",line)\n",
    "    if not line:\n",
    "        break\n",
    "    else:\n",
    "        p2 = p1.strip()\n",
    "        p3 = p2+\"/24\"\n",
    "        #print(p3)\n",
    "        #print(p.match(line))\n",
    "\n",
    "        whois_key = '2020061011345550462421'\n",
    "        query = \"http://whois.kisa.or.kr/openapi/ipascc.jsp?query=\" + p2 + \"&key=\"+ whois_key + \"&answer=json\";\n",
    "        request = urllib.request.urlopen(query).read().decode(\"utf-8\")\n",
    "        #print(request.strip())\n",
    "        data = re.findall('[A-Z]{1,2}',request)\n",
    "        countrycode = \"(\"+data[-1]+\")\"\n",
    "        print(p3, countrycode)\n",
    "        \n",
    "            \n",
    "file_in.close()\n",
    "file_out.close()\n"
   ]
  },
  {
   "cell_type": "code",
   "execution_count": 1,
   "metadata": {
    "id": "6_GPbN3l2Oc7",
    "outputId": "42df4015-7fff-4c9e-a2d7-6b41b798d888",
    "scrolled": true
   },
   "outputs": [
    {
     "ename": "ConnectionRefusedError",
     "evalue": "[WinError 10061] 대상 컴퓨터에서 연결을 거부했으므로 연결하지 못했습니다",
     "output_type": "error",
     "traceback": [
      "\u001b[1;31m---------------------------------------------------------------------------\u001b[0m",
      "\u001b[1;31mConnectionRefusedError\u001b[0m                    Traceback (most recent call last)",
      "\u001b[1;32m<ipython-input-1-bc7ccc642a74>\u001b[0m in \u001b[0;36m<module>\u001b[1;34m\u001b[0m\n\u001b[0;32m      2\u001b[0m \u001b[1;32mfrom\u001b[0m \u001b[0memail\u001b[0m\u001b[1;33m.\u001b[0m\u001b[0mmime\u001b[0m\u001b[1;33m.\u001b[0m\u001b[0mtext\u001b[0m \u001b[1;32mimport\u001b[0m \u001b[0mMIMEText\u001b[0m\u001b[1;33m\u001b[0m\u001b[1;33m\u001b[0m\u001b[0m\n\u001b[0;32m      3\u001b[0m \u001b[1;33m\u001b[0m\u001b[0m\n\u001b[1;32m----> 4\u001b[1;33m \u001b[0msmtp\u001b[0m \u001b[1;33m=\u001b[0m \u001b[0msmtplib\u001b[0m\u001b[1;33m.\u001b[0m\u001b[0mSMTP\u001b[0m\u001b[1;33m(\u001b[0m\u001b[1;34m'smtp.gmail.com'\u001b[0m\u001b[1;33m,\u001b[0m \u001b[1;36m587\u001b[0m\u001b[1;33m)\u001b[0m\u001b[1;33m\u001b[0m\u001b[1;33m\u001b[0m\u001b[0m\n\u001b[0m\u001b[0;32m      5\u001b[0m \u001b[0msmtp\u001b[0m\u001b[1;33m.\u001b[0m\u001b[0mehlo\u001b[0m\u001b[1;33m(\u001b[0m\u001b[1;33m)\u001b[0m  \u001b[1;31m# say hello\u001b[0m\u001b[1;33m\u001b[0m\u001b[1;33m\u001b[0m\u001b[0m\n\u001b[0;32m      6\u001b[0m \u001b[0msmtp\u001b[0m\u001b[1;33m.\u001b[0m\u001b[0mstarttls\u001b[0m\u001b[1;33m(\u001b[0m\u001b[1;33m)\u001b[0m \u001b[1;31m# tls 사용시 필요\u001b[0m\u001b[1;33m\u001b[0m\u001b[1;33m\u001b[0m\u001b[0m\n",
      "\u001b[1;32m~\\anaconda3\\lib\\smtplib.py\u001b[0m in \u001b[0;36m__init__\u001b[1;34m(self, host, port, local_hostname, timeout, source_address)\u001b[0m\n\u001b[0;32m    251\u001b[0m \u001b[1;33m\u001b[0m\u001b[0m\n\u001b[0;32m    252\u001b[0m         \u001b[1;32mif\u001b[0m \u001b[0mhost\u001b[0m\u001b[1;33m:\u001b[0m\u001b[1;33m\u001b[0m\u001b[1;33m\u001b[0m\u001b[0m\n\u001b[1;32m--> 253\u001b[1;33m             \u001b[1;33m(\u001b[0m\u001b[0mcode\u001b[0m\u001b[1;33m,\u001b[0m \u001b[0mmsg\u001b[0m\u001b[1;33m)\u001b[0m \u001b[1;33m=\u001b[0m \u001b[0mself\u001b[0m\u001b[1;33m.\u001b[0m\u001b[0mconnect\u001b[0m\u001b[1;33m(\u001b[0m\u001b[0mhost\u001b[0m\u001b[1;33m,\u001b[0m \u001b[0mport\u001b[0m\u001b[1;33m)\u001b[0m\u001b[1;33m\u001b[0m\u001b[1;33m\u001b[0m\u001b[0m\n\u001b[0m\u001b[0;32m    254\u001b[0m             \u001b[1;32mif\u001b[0m \u001b[0mcode\u001b[0m \u001b[1;33m!=\u001b[0m \u001b[1;36m220\u001b[0m\u001b[1;33m:\u001b[0m\u001b[1;33m\u001b[0m\u001b[1;33m\u001b[0m\u001b[0m\n\u001b[0;32m    255\u001b[0m                 \u001b[0mself\u001b[0m\u001b[1;33m.\u001b[0m\u001b[0mclose\u001b[0m\u001b[1;33m(\u001b[0m\u001b[1;33m)\u001b[0m\u001b[1;33m\u001b[0m\u001b[1;33m\u001b[0m\u001b[0m\n",
      "\u001b[1;32m~\\anaconda3\\lib\\smtplib.py\u001b[0m in \u001b[0;36mconnect\u001b[1;34m(self, host, port, source_address)\u001b[0m\n\u001b[0;32m    337\u001b[0m             \u001b[0mself\u001b[0m\u001b[1;33m.\u001b[0m\u001b[0m_print_debug\u001b[0m\u001b[1;33m(\u001b[0m\u001b[1;34m'connect:'\u001b[0m\u001b[1;33m,\u001b[0m \u001b[1;33m(\u001b[0m\u001b[0mhost\u001b[0m\u001b[1;33m,\u001b[0m \u001b[0mport\u001b[0m\u001b[1;33m)\u001b[0m\u001b[1;33m)\u001b[0m\u001b[1;33m\u001b[0m\u001b[1;33m\u001b[0m\u001b[0m\n\u001b[0;32m    338\u001b[0m         \u001b[0msys\u001b[0m\u001b[1;33m.\u001b[0m\u001b[0maudit\u001b[0m\u001b[1;33m(\u001b[0m\u001b[1;34m\"smtplib.connect\"\u001b[0m\u001b[1;33m,\u001b[0m \u001b[0mself\u001b[0m\u001b[1;33m,\u001b[0m \u001b[0mhost\u001b[0m\u001b[1;33m,\u001b[0m \u001b[0mport\u001b[0m\u001b[1;33m)\u001b[0m\u001b[1;33m\u001b[0m\u001b[1;33m\u001b[0m\u001b[0m\n\u001b[1;32m--> 339\u001b[1;33m         \u001b[0mself\u001b[0m\u001b[1;33m.\u001b[0m\u001b[0msock\u001b[0m \u001b[1;33m=\u001b[0m \u001b[0mself\u001b[0m\u001b[1;33m.\u001b[0m\u001b[0m_get_socket\u001b[0m\u001b[1;33m(\u001b[0m\u001b[0mhost\u001b[0m\u001b[1;33m,\u001b[0m \u001b[0mport\u001b[0m\u001b[1;33m,\u001b[0m \u001b[0mself\u001b[0m\u001b[1;33m.\u001b[0m\u001b[0mtimeout\u001b[0m\u001b[1;33m)\u001b[0m\u001b[1;33m\u001b[0m\u001b[1;33m\u001b[0m\u001b[0m\n\u001b[0m\u001b[0;32m    340\u001b[0m         \u001b[0mself\u001b[0m\u001b[1;33m.\u001b[0m\u001b[0mfile\u001b[0m \u001b[1;33m=\u001b[0m \u001b[1;32mNone\u001b[0m\u001b[1;33m\u001b[0m\u001b[1;33m\u001b[0m\u001b[0m\n\u001b[0;32m    341\u001b[0m         \u001b[1;33m(\u001b[0m\u001b[0mcode\u001b[0m\u001b[1;33m,\u001b[0m \u001b[0mmsg\u001b[0m\u001b[1;33m)\u001b[0m \u001b[1;33m=\u001b[0m \u001b[0mself\u001b[0m\u001b[1;33m.\u001b[0m\u001b[0mgetreply\u001b[0m\u001b[1;33m(\u001b[0m\u001b[1;33m)\u001b[0m\u001b[1;33m\u001b[0m\u001b[1;33m\u001b[0m\u001b[0m\n",
      "\u001b[1;32m~\\anaconda3\\lib\\smtplib.py\u001b[0m in \u001b[0;36m_get_socket\u001b[1;34m(self, host, port, timeout)\u001b[0m\n\u001b[0;32m    306\u001b[0m         \u001b[1;32mif\u001b[0m \u001b[0mself\u001b[0m\u001b[1;33m.\u001b[0m\u001b[0mdebuglevel\u001b[0m \u001b[1;33m>\u001b[0m \u001b[1;36m0\u001b[0m\u001b[1;33m:\u001b[0m\u001b[1;33m\u001b[0m\u001b[1;33m\u001b[0m\u001b[0m\n\u001b[0;32m    307\u001b[0m             \u001b[0mself\u001b[0m\u001b[1;33m.\u001b[0m\u001b[0m_print_debug\u001b[0m\u001b[1;33m(\u001b[0m\u001b[1;34m'connect: to'\u001b[0m\u001b[1;33m,\u001b[0m \u001b[1;33m(\u001b[0m\u001b[0mhost\u001b[0m\u001b[1;33m,\u001b[0m \u001b[0mport\u001b[0m\u001b[1;33m)\u001b[0m\u001b[1;33m,\u001b[0m \u001b[0mself\u001b[0m\u001b[1;33m.\u001b[0m\u001b[0msource_address\u001b[0m\u001b[1;33m)\u001b[0m\u001b[1;33m\u001b[0m\u001b[1;33m\u001b[0m\u001b[0m\n\u001b[1;32m--> 308\u001b[1;33m         return socket.create_connection((host, port), timeout,\n\u001b[0m\u001b[0;32m    309\u001b[0m                                         self.source_address)\n\u001b[0;32m    310\u001b[0m \u001b[1;33m\u001b[0m\u001b[0m\n",
      "\u001b[1;32m~\\anaconda3\\lib\\socket.py\u001b[0m in \u001b[0;36mcreate_connection\u001b[1;34m(address, timeout, source_address)\u001b[0m\n\u001b[0;32m    806\u001b[0m     \u001b[1;32mif\u001b[0m \u001b[0merr\u001b[0m \u001b[1;32mis\u001b[0m \u001b[1;32mnot\u001b[0m \u001b[1;32mNone\u001b[0m\u001b[1;33m:\u001b[0m\u001b[1;33m\u001b[0m\u001b[1;33m\u001b[0m\u001b[0m\n\u001b[0;32m    807\u001b[0m         \u001b[1;32mtry\u001b[0m\u001b[1;33m:\u001b[0m\u001b[1;33m\u001b[0m\u001b[1;33m\u001b[0m\u001b[0m\n\u001b[1;32m--> 808\u001b[1;33m             \u001b[1;32mraise\u001b[0m \u001b[0merr\u001b[0m\u001b[1;33m\u001b[0m\u001b[1;33m\u001b[0m\u001b[0m\n\u001b[0m\u001b[0;32m    809\u001b[0m         \u001b[1;32mfinally\u001b[0m\u001b[1;33m:\u001b[0m\u001b[1;33m\u001b[0m\u001b[1;33m\u001b[0m\u001b[0m\n\u001b[0;32m    810\u001b[0m             \u001b[1;31m# Break explicitly a reference cycle\u001b[0m\u001b[1;33m\u001b[0m\u001b[1;33m\u001b[0m\u001b[1;33m\u001b[0m\u001b[0m\n",
      "\u001b[1;32m~\\anaconda3\\lib\\socket.py\u001b[0m in \u001b[0;36mcreate_connection\u001b[1;34m(address, timeout, source_address)\u001b[0m\n\u001b[0;32m    794\u001b[0m             \u001b[1;32mif\u001b[0m \u001b[0msource_address\u001b[0m\u001b[1;33m:\u001b[0m\u001b[1;33m\u001b[0m\u001b[1;33m\u001b[0m\u001b[0m\n\u001b[0;32m    795\u001b[0m                 \u001b[0msock\u001b[0m\u001b[1;33m.\u001b[0m\u001b[0mbind\u001b[0m\u001b[1;33m(\u001b[0m\u001b[0msource_address\u001b[0m\u001b[1;33m)\u001b[0m\u001b[1;33m\u001b[0m\u001b[1;33m\u001b[0m\u001b[0m\n\u001b[1;32m--> 796\u001b[1;33m             \u001b[0msock\u001b[0m\u001b[1;33m.\u001b[0m\u001b[0mconnect\u001b[0m\u001b[1;33m(\u001b[0m\u001b[0msa\u001b[0m\u001b[1;33m)\u001b[0m\u001b[1;33m\u001b[0m\u001b[1;33m\u001b[0m\u001b[0m\n\u001b[0m\u001b[0;32m    797\u001b[0m             \u001b[1;31m# Break explicitly a reference cycle\u001b[0m\u001b[1;33m\u001b[0m\u001b[1;33m\u001b[0m\u001b[1;33m\u001b[0m\u001b[0m\n\u001b[0;32m    798\u001b[0m             \u001b[0merr\u001b[0m \u001b[1;33m=\u001b[0m \u001b[1;32mNone\u001b[0m\u001b[1;33m\u001b[0m\u001b[1;33m\u001b[0m\u001b[0m\n",
      "\u001b[1;31mConnectionRefusedError\u001b[0m: [WinError 10061] 대상 컴퓨터에서 연결을 거부했으므로 연결하지 못했습니다"
     ]
    }
   ],
   "source": [
    "import smtplib\n",
    "from email.mime.text import MIMEText\n",
    "\n",
    "smtp = smtplib.SMTP('smtp.gmail.com', 587)\n",
    "smtp.ehlo()  # say hello\n",
    "smtp.starttls() # tls 사용시 필요\n",
    "smtp.login('dwkim@chunjae.co.kr', 'cjswo12#$')\n",
    "\n",
    "msg = MIMEText('본문 텍스트 메세지')\n",
    "msg['Subject'] = '테스트'\n",
    "msg['To'] = '대상@naver.com'\n",
    "smtp.sendmail('karas639@gmail.com', '추가@naver.com', msg.as_string())\n",
    "\n",
    "smtp.quit()\n"
   ]
  },
  {
   "cell_type": "markdown",
   "metadata": {
    "id": "bp_0agX32Oc8"
   },
   "source": [
    "### 파이썬으로 메일 보내기\n",
    "- 파이썬에서 이메일을 보내기 위해서는 파이썬에 기본 내장된 smtplib 라는 모듈을 사용한다. SMTP는 Simple Mail Transfer Protocol의 약자로서 메일을 보내는데 사용되는 프로토콜이다. 개인이나 회사가 SMTP 서버를 설치해서 이를 통해 메일을 발송할 수 있지만, 요즘은 구글, 마이크로소프트 등 많은 회사들이 SMTP 서버를 사용할 수 있도록 오픈하고 있기 때문에 이들 SMTP 서버를 사용해서 메일을 발송할 수 있다.\n",
    "\n",
    "- 메일 Provider\tSMTP 서버명, 포트\n",
    "- Live\tsmtp.live.com, 587\n",
    "- GMail\tsmtp.gmail.com, 587\n",
    "- 파이썬에서 SMTP 서버에 접속하기 위해서는 smtplib 모듈을 import 한 후, SMTP 서버와 포트로 SMTP 객체를 생성한다. SMTP 서버의 Encryption 방식에 따라 TTL 혹은 SSL을 사용하는데, TLS을 사용하는 경우 smtplib.SMTP()를, SSL을 사용하는 경우 smtplib.SMTP_SSL() 을 사용한다. TLS는 보통 포트 587을, SSL은 465를 사용한다.\n",
    "\n",
    "- SMTP 객체를 생성한 후에는 프로토콜 상 가장 먼저 SMTP 서버에 Hello 메시지를 보내는데, ehlo() 메서드가 이 기능을 한다. Hello 메시지 이후, TLS 인 경우는 starttls() 를 실행하여 TLS Encryption을 시작하는데, SSL인 경우에는 이 메서드를 호출하지 않는다.\n",
    "\n",
    "- 이렇게 기본 연결을 마친 후, login(계정, 암호) 메서드를 호출하여 계정과 암호를 넣고 사용자 인증을 받게 된다. 이후, sendmail(송신자, 수신자, 메시지) 메서드를 사용하여 메일을 보내게 되는데, 여기서 메시지는 간단한 메시지의 경우는 email.mime.text.MIMEText 을, 좀 더 복잡한 메시지의 경우는 email.mime.multipart.MIMEMultipart 등을 사용할 수 있다. 마지막으로 SMTP와 연결을 끊고 종료하기 위해서는 quit() 메서드를 호출한다."
   ]
  },
  {
   "cell_type": "markdown",
   "metadata": {
    "id": "SLO4Vg7F2Oc8"
   },
   "source": [
    "안녕하세요. 김동욱입니다.\n",
    "\n",
    "방화벽에서 아래 공격자 IP 차단 요청 드립니다.\n",
    "========================== 아 래 ===========================\n",
    "1\n",
    "\n",
    "2. 차단 IP 내역\n",
    "\n",
    "109.162.241.0/24 (IR)\n",
    "91.98.38.0/24 (IR)\n",
    "176.236.37.0/24 (TR)\n",
    "212.34.239.0/24 (AM)\n",
    "68.170.36.0/24 (US)\n",
    "79.106.35.0/24 (AL)\n",
    "95.31.5.0/24 (RU)\n",
    "192.141.232.0/24 (BR)\n",
    "178.22.168.0/24 (KZ)\n",
    "178.93.37.0/24 (UA)\n",
    "122.241.230.0/24 (CN)\n",
    "191.7.209.0/24 (BR)\n",
    "183.163.160.0/24 (CN)\n",
    "\n",
    "\n",
    "3. \n",
    "==========================================================\n",
    "\n",
    "감사합니다."
   ]
  }
 ],
 "metadata": {
  "colab": {
   "name": "whois_lookup-checkpoint.ipynb",
   "provenance": []
  },
  "kernelspec": {
   "display_name": "Python 3",
   "language": "python",
   "name": "python3"
  },
  "language_info": {
   "codemirror_mode": {
    "name": "ipython",
    "version": 3
   },
   "file_extension": ".py",
   "mimetype": "text/x-python",
   "name": "python",
   "nbconvert_exporter": "python",
   "pygments_lexer": "ipython3",
   "version": "3.8.5"
  }
 },
 "nbformat": 4,
 "nbformat_minor": 1
}
